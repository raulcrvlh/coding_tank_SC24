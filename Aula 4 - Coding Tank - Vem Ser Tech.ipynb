{
 "cells": [
  {
   "cell_type": "markdown",
   "id": "341a085c",
   "metadata": {},
   "source": [
    "<div style=\"background-color: black; padding: 18px;\">\n",
    "    <h1> Coding Tank | Vem Ser Tech \n",
    "</div>"
   ]
  },
  {
   "cell_type": "markdown",
   "id": "f0230d44",
   "metadata": {},
   "source": [
    "<div style=\"background-color: black; padding: 10px;\">\n",
    "    <h2> Tópicos da aula - AULA 4\n",
    "</div>\n",
    "\n",
    "- Loop for\n",
    "- Listas\n",
    "- Índices\n",
    "- Iterações de listas\n",
    "- Métodos de listas"
   ]
  },
  {
   "cell_type": "markdown",
   "id": "ddaaaec8",
   "metadata": {},
   "source": [
    "E se quisermos fazer o programa que a pessoa digita 10 números e dizemos o maior, conseguimos?\n",
    "\n",
    "E se quisermos o 2° maior? E se quisermos o 5º? \n",
    "\n",
    "Podemos resolver com **listas**\n",
    "\n",
    "- Listas\n",
    "\n",
    "Listas são coleções de objetos em Python e é expressada em `[]`"
   ]
  },
  {
   "cell_type": "code",
   "execution_count": 2,
   "id": "e626193f",
   "metadata": {
    "ExecuteTime": {
     "end_time": "2023-06-29T00:53:10.121923Z",
     "start_time": "2023-06-29T00:53:10.111155Z"
    }
   },
   "outputs": [
    {
     "name": "stdout",
     "output_type": "stream",
     "text": [
      "[1, 2.5, 3, 4]\n",
      "[1, 3.7, 'bart']\n"
     ]
    }
   ],
   "source": [
    "lista_1 = list()\n",
    "lista_2 = [1, 2, 3, 4]\n",
    "lista_3 = []\n",
    "lista_4 = [1, 2.5, 3, 4]\n",
    "lista_5 = [1, 3.7, 'bart']\n",
    "lista_6 = [1, [2, 3]]\n",
    "print(lista_4)\n",
    "print(lista_5)"
   ]
  },
  {
   "cell_type": "code",
   "execution_count": 49,
   "id": "8a7398da",
   "metadata": {
    "ExecuteTime": {
     "end_time": "2023-06-29T00:56:41.565104Z",
     "start_time": "2023-06-29T00:56:41.555151Z"
    }
   },
   "outputs": [
    {
     "name": "stdout",
     "output_type": "stream",
     "text": [
      "[1, 2, 3, 4, 5, 6, 7, 8, 9, 10]\n"
     ]
    }
   ],
   "source": [
    "lista = [1, 2, 3, 4, 5, 6, 7, 8, 9, 10]\n",
    "print(lista)"
   ]
  },
  {
   "cell_type": "code",
   "execution_count": 4,
   "id": "4541e94a",
   "metadata": {
    "ExecuteTime": {
     "end_time": "2023-06-29T00:56:58.487031Z",
     "start_time": "2023-06-29T00:56:58.477176Z"
    }
   },
   "outputs": [
    {
     "data": {
      "text/plain": [
       "list"
      ]
     },
     "execution_count": 4,
     "metadata": {},
     "output_type": "execute_result"
    }
   ],
   "source": [
    "type(lista)"
   ]
  },
  {
   "cell_type": "code",
   "execution_count": 5,
   "id": "8a57fec8",
   "metadata": {
    "ExecuteTime": {
     "end_time": "2023-06-29T00:57:40.345041Z",
     "start_time": "2023-06-29T00:57:40.339545Z"
    }
   },
   "outputs": [
    {
     "data": {
      "text/plain": [
       "int"
      ]
     },
     "execution_count": 5,
     "metadata": {},
     "output_type": "execute_result"
    }
   ],
   "source": [
    "type(lista_5[0])"
   ]
  },
  {
   "cell_type": "code",
   "execution_count": 6,
   "id": "03ac344a",
   "metadata": {
    "ExecuteTime": {
     "end_time": "2023-06-29T22:26:30.681040Z",
     "start_time": "2023-06-29T22:26:30.671086Z"
    }
   },
   "outputs": [
    {
     "data": {
      "text/plain": [
       "float"
      ]
     },
     "execution_count": 6,
     "metadata": {},
     "output_type": "execute_result"
    }
   ],
   "source": [
    "type(lista_5[1])"
   ]
  },
  {
   "cell_type": "code",
   "execution_count": 7,
   "id": "f9777dd0",
   "metadata": {
    "ExecuteTime": {
     "end_time": "2023-06-29T22:26:58.328878Z",
     "start_time": "2023-06-29T22:26:58.315522Z"
    }
   },
   "outputs": [
    {
     "data": {
      "text/plain": [
       "str"
      ]
     },
     "execution_count": 7,
     "metadata": {},
     "output_type": "execute_result"
    }
   ],
   "source": [
    "type(lista_5[2])"
   ]
  },
  {
   "cell_type": "code",
   "execution_count": 8,
   "id": "fb4cc5b7",
   "metadata": {
    "ExecuteTime": {
     "end_time": "2023-06-29T22:27:19.356689Z",
     "start_time": "2023-06-29T22:27:19.312779Z"
    }
   },
   "outputs": [
    {
     "data": {
      "text/plain": [
       "'bart'"
      ]
     },
     "execution_count": 8,
     "metadata": {},
     "output_type": "execute_result"
    }
   ],
   "source": [
    "lista_5[-1]"
   ]
  },
  {
   "cell_type": "code",
   "execution_count": 17,
   "id": "0339c0fc",
   "metadata": {
    "ExecuteTime": {
     "end_time": "2023-06-29T22:28:00.578066Z",
     "start_time": "2023-06-29T22:28:00.567809Z"
    }
   },
   "outputs": [
    {
     "data": {
      "text/plain": [
       "[1, 2, 3, 4, 5, 6, 7, 8, 9, 10]"
      ]
     },
     "execution_count": 17,
     "metadata": {},
     "output_type": "execute_result"
    }
   ],
   "source": [
    "lista[0:]"
   ]
  },
  {
   "cell_type": "code",
   "execution_count": 20,
   "id": "6f038b2b",
   "metadata": {
    "ExecuteTime": {
     "end_time": "2023-06-29T22:28:06.511060Z",
     "start_time": "2023-06-29T22:28:06.501774Z"
    }
   },
   "outputs": [
    {
     "data": {
      "text/plain": [
       "[3, 5, 7, 9]"
      ]
     },
     "execution_count": 20,
     "metadata": {},
     "output_type": "execute_result"
    }
   ],
   "source": [
    "lista[2:10:2] # pula de dois em dois"
   ]
  },
  {
   "cell_type": "code",
   "execution_count": 21,
   "id": "1c1228df",
   "metadata": {
    "ExecuteTime": {
     "end_time": "2023-06-29T22:28:53.370752Z",
     "start_time": "2023-06-29T22:28:53.345190Z"
    }
   },
   "outputs": [
    {
     "name": "stdout",
     "output_type": "stream",
     "text": [
      "[1, 2, 11, 4, 5, 6, 7, 8, 9, 10]\n"
     ]
    }
   ],
   "source": [
    "lista[2] = 11\n",
    "print(lista)"
   ]
  },
  {
   "cell_type": "code",
   "execution_count": 22,
   "id": "20e426c5",
   "metadata": {
    "ExecuteTime": {
     "end_time": "2023-06-29T22:29:03.492265Z",
     "start_time": "2023-06-29T22:29:03.475031Z"
    }
   },
   "outputs": [
    {
     "name": "stdout",
     "output_type": "stream",
     "text": [
      "[1, 2, 11, 4, 5, 6, 7, 8, 9, 10, 99]\n"
     ]
    }
   ],
   "source": [
    "lista.append(99)\n",
    "print(lista)"
   ]
  },
  {
   "cell_type": "code",
   "execution_count": 23,
   "id": "459eedd9",
   "metadata": {
    "ExecuteTime": {
     "end_time": "2023-06-29T22:29:09.389792Z",
     "start_time": "2023-06-29T22:29:09.372341Z"
    }
   },
   "outputs": [
    {
     "data": {
      "text/plain": [
       "[1, 2.5, 3, 4, 1, 3.7, 'bart']"
      ]
     },
     "execution_count": 23,
     "metadata": {},
     "output_type": "execute_result"
    }
   ],
   "source": [
    "lista_4 + lista_5"
   ]
  },
  {
   "cell_type": "code",
   "execution_count": 28,
   "id": "f2fc4556",
   "metadata": {
    "ExecuteTime": {
     "end_time": "2023-06-29T22:29:58.239341Z",
     "start_time": "2023-06-29T22:29:58.227247Z"
    }
   },
   "outputs": [
    {
     "name": "stdout",
     "output_type": "stream",
     "text": [
      "[1, 2, 11, 4, 5, 6, 7, 8, 9, 10, 99, [1, 2.5, 3, 4], [1, 2.5, 3, 4]]\n"
     ]
    }
   ],
   "source": [
    "lista.append(lista_4)\n",
    "print(lista)"
   ]
  },
  {
   "cell_type": "code",
   "execution_count": 29,
   "id": "329ac2df",
   "metadata": {
    "ExecuteTime": {
     "end_time": "2023-06-29T22:50:42.362629Z",
     "start_time": "2023-06-29T22:50:42.336530Z"
    }
   },
   "outputs": [
    {
     "name": "stdout",
     "output_type": "stream",
     "text": [
      "[1, 2.5, 3, 4]\n",
      "1\n"
     ]
    }
   ],
   "source": [
    "print(lista[-1])\n",
    "print(lista[-1][0])"
   ]
  },
  {
   "cell_type": "code",
   "execution_count": 42,
   "id": "5021b83a",
   "metadata": {},
   "outputs": [
    {
     "name": "stdout",
     "output_type": "stream",
     "text": [
      "13\n",
      "7\n"
     ]
    }
   ],
   "source": [
    "print(len(lista))\n",
    "meio = len(lista)//2\n",
    "print(lista[meio])"
   ]
  },
  {
   "cell_type": "code",
   "execution_count": 39,
   "id": "afc26e8e",
   "metadata": {
    "ExecuteTime": {
     "end_time": "2023-06-29T22:53:07.476480Z",
     "start_time": "2023-06-29T22:53:07.455763Z"
    }
   },
   "outputs": [
    {
     "name": "stdout",
     "output_type": "stream",
     "text": [
      "7\n"
     ]
    }
   ],
   "source": [
    "lista_impar = [1,2,3,4,5]\n",
    "meio = len(lista)//2\n",
    "\n",
    "print(lista[meio])"
   ]
  },
  {
   "cell_type": "code",
   "execution_count": null,
   "id": "7c369dcf",
   "metadata": {
    "ExecuteTime": {
     "end_time": "2023-06-29T22:54:39.387621Z",
     "start_time": "2023-06-29T22:54:39.366577Z"
    }
   },
   "outputs": [],
   "source": []
  },
  {
   "cell_type": "code",
   "execution_count": null,
   "id": "56be891f",
   "metadata": {
    "ExecuteTime": {
     "end_time": "2023-06-29T23:38:11.739834Z",
     "start_time": "2023-06-29T23:38:11.715051Z"
    }
   },
   "outputs": [],
   "source": []
  },
  {
   "cell_type": "markdown",
   "id": "f4bac6d5",
   "metadata": {
    "ExecuteTime": {
     "end_time": "2023-06-29T22:52:13.757377Z",
     "start_time": "2023-06-29T22:52:13.737024Z"
    }
   },
   "source": [
    "Existem várias outras funções/métodos de listas que vocês irão aprender no próximo módulo, como:\n",
    "\n",
    "- append: Adiciona um elemento ao final da lista.\n",
    "- insert: Insere um elemento em uma posição específica da lista.\n",
    "- remove: Remove a primeira ocorrência de um elemento da lista\n",
    "- pop: Remove e retorna o elemento em uma posição específica da lista. Se nenhum índice for fornecido, remove e retorna o último elemento.\n",
    "- sort: Ordena a lista in-place (modifica a lista original).\n",
    "- sorted : Retorna uma nova lista ordenada a partir de um iterável, sem modificar o original.\n",
    "- reverse: Inverte a ordem dos elementos na lista in-place.\n",
    "- index: Retorna o índice da primeira ocorrência de um elemento na lista.\n",
    "- max, min, len\n",
    "    "
   ]
  },
  {
   "cell_type": "code",
   "execution_count": 50,
   "id": "eb90e370",
   "metadata": {
    "ExecuteTime": {
     "end_time": "2023-06-29T22:56:30.796648Z",
     "start_time": "2023-06-29T22:56:30.777686Z"
    }
   },
   "outputs": [
    {
     "data": {
      "text/plain": [
       "[1, 2, 3, 4, 5, 6, 7, 8, 9, 10]"
      ]
     },
     "execution_count": 50,
     "metadata": {},
     "output_type": "execute_result"
    }
   ],
   "source": [
    "sorted(lista)"
   ]
  },
  {
   "cell_type": "code",
   "execution_count": 62,
   "id": "4104c894",
   "metadata": {},
   "outputs": [
    {
     "name": "stdout",
     "output_type": "stream",
     "text": [
      "[1, 3, 4, 5, 6, 7, 8, 9, 10]\n",
      "[1, 3, 4, 5, 6, 7, 8, 9, 10]\n",
      "[10, 9, 8, 7, 6, 5, 4, 3, 1]\n"
     ]
    }
   ],
   "source": [
    "lista = [1, 3, 6, 4, 5, 7, 9, 8, 10]\n",
    "lista2_ordenada = sorted(lista) # cria uma nova lista ordenada\n",
    "print(lista2_ordenada)\n",
    "lista.sort()\n",
    "print(lista)\n",
    "lista.sort(reverse=True)\n",
    "print(lista)\n"
   ]
  },
  {
   "cell_type": "code",
   "execution_count": 51,
   "id": "cd79e129",
   "metadata": {
    "ExecuteTime": {
     "end_time": "2023-06-29T22:56:52.653894Z",
     "start_time": "2023-06-29T22:56:52.636248Z"
    }
   },
   "outputs": [
    {
     "data": {
      "text/plain": [
       "10"
      ]
     },
     "execution_count": 51,
     "metadata": {},
     "output_type": "execute_result"
    }
   ],
   "source": [
    "max(lista)"
   ]
  },
  {
   "cell_type": "code",
   "execution_count": 52,
   "id": "7d06c247",
   "metadata": {
    "ExecuteTime": {
     "end_time": "2023-06-29T22:56:59.905041Z",
     "start_time": "2023-06-29T22:56:59.879562Z"
    }
   },
   "outputs": [
    {
     "data": {
      "text/plain": [
       "1"
      ]
     },
     "execution_count": 52,
     "metadata": {},
     "output_type": "execute_result"
    }
   ],
   "source": [
    "min(lista)"
   ]
  },
  {
   "cell_type": "code",
   "execution_count": null,
   "id": "2e1a56b6",
   "metadata": {
    "ExecuteTime": {
     "end_time": "2023-06-29T23:09:55.227172Z",
     "start_time": "2023-06-29T23:09:49.854071Z"
    }
   },
   "outputs": [],
   "source": []
  },
  {
   "cell_type": "markdown",
   "id": "d9df7da1",
   "metadata": {},
   "source": [
    "**Percorrer a lista**"
   ]
  },
  {
   "cell_type": "code",
   "execution_count": 73,
   "id": "d53d4480",
   "metadata": {
    "ExecuteTime": {
     "end_time": "2023-06-29T23:22:53.411814Z",
     "start_time": "2023-06-29T23:22:53.402698Z"
    }
   },
   "outputs": [
    {
     "name": "stdout",
     "output_type": "stream",
     "text": [
      "A lista é [1], e a soma dos valores é 1\n",
      "A lista é [1, 5], e a soma dos valores é 6\n",
      "A lista é [1, 5, 6], e a soma dos valores é 12\n"
     ]
    }
   ],
   "source": [
    "# Dado uma lista de números, somar os elementos dessa lista usando os índices\n",
    "numeros = []\n",
    "soma = 0\n",
    "i = 0\n",
    "\n",
    "while True:\n",
    "    entrada = int(input('Digite um número'))\n",
    "\n",
    "    if entrada == 0:\n",
    "        break\n",
    "    \n",
    "    numeros.append(entrada)\n",
    "    soma +=entrada\n",
    "    print(f'A lista é {numeros}, e a soma dos valores é {soma}')\n",
    "\n",
    "\n"
   ]
  },
  {
   "cell_type": "code",
   "execution_count": null,
   "id": "bf65f123",
   "metadata": {
    "ExecuteTime": {
     "end_time": "2023-06-29T23:23:25.535201Z",
     "start_time": "2023-06-29T23:23:25.519513Z"
    }
   },
   "outputs": [],
   "source": []
  },
  {
   "cell_type": "code",
   "execution_count": null,
   "id": "a4ea6ea3",
   "metadata": {
    "ExecuteTime": {
     "end_time": "2023-06-29T23:27:35.335331Z",
     "start_time": "2023-06-29T23:27:35.312749Z"
    }
   },
   "outputs": [],
   "source": []
  },
  {
   "cell_type": "code",
   "execution_count": null,
   "id": "c65aa2e3",
   "metadata": {
    "ExecuteTime": {
     "end_time": "2023-06-29T23:33:04.852539Z",
     "start_time": "2023-06-29T23:33:02.725599Z"
    }
   },
   "outputs": [],
   "source": []
  },
  {
   "cell_type": "code",
   "execution_count": null,
   "id": "f7d29b9c",
   "metadata": {
    "ExecuteTime": {
     "end_time": "2023-06-29T23:42:43.573109Z",
     "start_time": "2023-06-29T23:42:43.562622Z"
    }
   },
   "outputs": [],
   "source": []
  },
  {
   "cell_type": "code",
   "execution_count": null,
   "id": "1b5dfd34",
   "metadata": {
    "ExecuteTime": {
     "end_time": "2023-06-29T23:43:22.469671Z",
     "start_time": "2023-06-29T23:43:22.454646Z"
    }
   },
   "outputs": [],
   "source": []
  },
  {
   "cell_type": "code",
   "execution_count": null,
   "id": "bb5da1d9",
   "metadata": {
    "ExecuteTime": {
     "end_time": "2023-06-29T23:46:18.391787Z",
     "start_time": "2023-06-29T23:46:16.515786Z"
    }
   },
   "outputs": [],
   "source": []
  },
  {
   "cell_type": "markdown",
   "id": "9d63c551",
   "metadata": {},
   "source": [
    "**Maneiras de percorrer uma lista**\n",
    "\n",
    "numeros = [1, 3, 5, 7, 9]\n",
    "\n",
    "- Usando while\n",
    "\n",
    "Pros: Eu sei não só o elemento mas sei o indice também   \n",
    "Contra: Eu preciso controlar o índice\n",
    "\n",
    "```python\n",
    "contador = 0\n",
    "while (contador < len(numeros)):\n",
    "    print(numeros[contador])\n",
    "    contador = contador + 1  Se eu esquecer essa linha vira um loop infinito\n",
    "```\n",
    "\n",
    "\n",
    "- Jeito intermediario: for in range\n",
    "\n",
    "Pros: Sei o indice, não preciso controlar o loop  \n",
    "Contra: Precisa saber usar a função range  \n",
    "range(5) ->  [0, 1, 2, 3, 4]\n",
    "\n",
    "```python\n",
    "numeros = [1, 3, 5, 7, 9]\n",
    "for indice in range(len(numeros)):\n",
    "    print(numeros[indice])\n",
    "```\n",
    "\n",
    "\n",
    "- Usando só for (sem índice)\n",
    "\n",
    "Pros: não preciso me preocupar com o índice e nem com loop  \n",
    "Contra: não sei índice\n",
    "\n",
    "```python\n",
    "numeros = [1, 3, 5, 7, 9]\n",
    "for numero in numeros:        numero é uma especie de variavel temporaria, usamos item, elemento, etc\n",
    "    print(numero)\n",
    "```"
   ]
  },
  {
   "cell_type": "markdown",
   "id": "d9b25c6c",
   "metadata": {},
   "source": [
    "Vamos ver um exemplo:"
   ]
  },
  {
   "cell_type": "code",
   "execution_count": 88,
   "id": "03129212",
   "metadata": {},
   "outputs": [
    {
     "name": "stdout",
     "output_type": "stream",
     "text": [
      "0 1 2 3 4 5 6 "
     ]
    }
   ],
   "source": [
    "for indice in range(0, 7):\n",
    "    print(indice, end= ' ')"
   ]
  },
  {
   "cell_type": "code",
   "execution_count": 85,
   "id": "575436e8",
   "metadata": {
    "ExecuteTime": {
     "end_time": "2023-06-29T23:57:04.136886Z",
     "start_time": "2023-06-29T23:57:04.125680Z"
    }
   },
   "outputs": [
    {
     "name": "stdout",
     "output_type": "stream",
     "text": [
      "7 3 5 7 "
     ]
    }
   ],
   "source": [
    "numeros = [7, 8, 3, 5, 5, 6, 7]\n",
    "for indice in range(0, len(numeros), 2):\n",
    "    print(numeros[indice], end=\" \")"
   ]
  },
  {
   "cell_type": "code",
   "execution_count": 89,
   "id": "08b6773b",
   "metadata": {},
   "outputs": [
    {
     "name": "stdout",
     "output_type": "stream",
     "text": [
      "No indice 0 o valor na lista é 7\n",
      "No indice 1 o valor na lista é 8\n",
      "No indice 2 o valor na lista é 3\n",
      "No indice 3 o valor na lista é 5\n",
      "No indice 4 o valor na lista é 5\n",
      "No indice 5 o valor na lista é 6\n",
      "No indice 6 o valor na lista é 7\n"
     ]
    }
   ],
   "source": [
    "for indice in range(len(numeros)):\n",
    "    print(f\"No indice {indice} o valor na lista é {numeros[indice]}\")"
   ]
  },
  {
   "cell_type": "code",
   "execution_count": 86,
   "id": "8026d21c",
   "metadata": {
    "ExecuteTime": {
     "end_time": "2023-06-29T23:58:36.091895Z",
     "start_time": "2023-06-29T23:58:36.078306Z"
    }
   },
   "outputs": [
    {
     "name": "stdout",
     "output_type": "stream",
     "text": [
      "[7, 8, 3, 5, 5, 6, 7]\n",
      "[0, 1, 2, 3, 4, 5, 6]\n"
     ]
    }
   ],
   "source": [
    "print(numeros[:7])\n",
    "print(list(range(len(numeros))))"
   ]
  },
  {
   "cell_type": "code",
   "execution_count": 90,
   "id": "2e81cc68",
   "metadata": {},
   "outputs": [
    {
     "name": "stdout",
     "output_type": "stream",
     "text": [
      "7 8 3 5 5 6 7 "
     ]
    }
   ],
   "source": [
    "for numero in numeros:\n",
    "    print(numero, end=' ')"
   ]
  },
  {
   "cell_type": "code",
   "execution_count": 91,
   "id": "8b3727f4",
   "metadata": {},
   "outputs": [
    {
     "name": "stdout",
     "output_type": "stream",
     "text": [
      "Raul Nara Thiago Thais "
     ]
    }
   ],
   "source": [
    "nomes = ['Raul', 'Nara', 'Thiago', 'Thais']\n",
    "for nome in nomes:\n",
    "    print(nome, end=' ')"
   ]
  },
  {
   "cell_type": "markdown",
   "id": "efb6b72d",
   "metadata": {},
   "source": [
    "**Exercícios**"
   ]
  },
  {
   "cell_type": "markdown",
   "id": "80de8ffc",
   "metadata": {},
   "source": [
    "1. Crie uma lista qualquer e faça um programa que imprima cada elemento da lista usando o for."
   ]
  },
  {
   "cell_type": "code",
   "execution_count": 2,
   "id": "4afe9330",
   "metadata": {
    "ExecuteTime": {
     "end_time": "2023-06-30T00:28:06.089625Z",
     "start_time": "2023-06-30T00:28:06.070133Z"
    }
   },
   "outputs": [
    {
     "name": "stdout",
     "output_type": "stream",
     "text": [
      "1 5 6 8 7 10 "
     ]
    }
   ],
   "source": [
    "lista_n = [1, 5, 6, 8, 7, 10]\n",
    "for numero in lista_n:\n",
    "    print(numero, end=' ')"
   ]
  },
  {
   "cell_type": "code",
   "execution_count": null,
   "id": "db91686b",
   "metadata": {
    "ExecuteTime": {
     "end_time": "2023-06-30T00:29:01.575343Z",
     "start_time": "2023-06-30T00:29:01.569330Z"
    }
   },
   "outputs": [],
   "source": []
  },
  {
   "cell_type": "code",
   "execution_count": null,
   "id": "c045c4ec",
   "metadata": {
    "ExecuteTime": {
     "end_time": "2023-06-30T00:30:28.135037Z",
     "start_time": "2023-06-30T00:30:28.126561Z"
    }
   },
   "outputs": [],
   "source": []
  },
  {
   "cell_type": "markdown",
   "id": "5ba15420",
   "metadata": {},
   "source": [
    "2. Faça um programa que imprima todos os itens de uma lista usando while e compare com o exercício 1.\n",
    "\n"
   ]
  },
  {
   "cell_type": "code",
   "execution_count": 97,
   "id": "7e410b03",
   "metadata": {
    "ExecuteTime": {
     "end_time": "2023-06-30T00:32:38.591587Z",
     "start_time": "2023-06-30T00:32:38.581504Z"
    }
   },
   "outputs": [
    {
     "name": "stdout",
     "output_type": "stream",
     "text": [
      "1 5 6 8 7 10 "
     ]
    }
   ],
   "source": [
    "cont = 0\n",
    "while cont < len(lista_n):\n",
    "    print(lista_n[cont], end=' ')\n",
    "    cont +=1"
   ]
  },
  {
   "cell_type": "markdown",
   "id": "b8fc8680",
   "metadata": {},
   "source": [
    "3) Faça um programa que peça para o usuário digitar um número n e imprima uma lista com todos os números de 0 a n-1."
   ]
  },
  {
   "cell_type": "code",
   "execution_count": 143,
   "id": "e4c19751",
   "metadata": {
    "ExecuteTime": {
     "end_time": "2023-06-30T00:36:12.335746Z",
     "start_time": "2023-06-30T00:36:10.254113Z"
    }
   },
   "outputs": [
    {
     "name": "stdout",
     "output_type": "stream",
     "text": [
      "[0, 1, 2, 3, 4]\n"
     ]
    }
   ],
   "source": [
    "entrada = int(input('Digite um número maior que 0:'))\n",
    "saida = []\n",
    "for numero in range(entrada):\n",
    "    saida.append(numero)\n",
    "\n",
    "print(saida)"
   ]
  },
  {
   "cell_type": "code",
   "execution_count": null,
   "id": "68004d4f",
   "metadata": {
    "ExecuteTime": {
     "end_time": "2023-06-30T00:37:33.286644Z",
     "start_time": "2023-06-30T00:37:31.718426Z"
    }
   },
   "outputs": [],
   "source": []
  },
  {
   "cell_type": "code",
   "execution_count": null,
   "id": "56ddb966",
   "metadata": {
    "ExecuteTime": {
     "end_time": "2023-06-30T00:37:54.324393Z",
     "start_time": "2023-06-30T00:37:52.698680Z"
    }
   },
   "outputs": [],
   "source": []
  },
  {
   "cell_type": "markdown",
   "id": "2a24e132",
   "metadata": {},
   "source": [
    "4. Faça um programa que olhe todos os itens de uma lista e diga quantos deles são pares. "
   ]
  },
  {
   "cell_type": "code",
   "execution_count": 3,
   "id": "167af989",
   "metadata": {
    "ExecuteTime": {
     "end_time": "2023-06-30T00:40:26.677401Z",
     "start_time": "2023-06-30T00:40:26.667897Z"
    }
   },
   "outputs": [
    {
     "name": "stdout",
     "output_type": "stream",
     "text": [
      "Tem 8 números pares na sua lista\n"
     ]
    }
   ],
   "source": [
    "lista_n = [1, 5, 6, 8, 7, 10, 20, 25, 30, 45, 41, 66, 36, 28]\n",
    "lista_par = []\n",
    "for numero in lista_n:\n",
    "    if numero % 2 == 0:\n",
    "        lista_par.append(numero)\n",
    "        qtd_pares = len(lista_par)\n",
    "print(f'Tem {qtd_pares} números pares na sua lista')"
   ]
  },
  {
   "cell_type": "code",
   "execution_count": null,
   "id": "b7c5e7eb",
   "metadata": {
    "ExecuteTime": {
     "end_time": "2023-06-30T00:42:50.875811Z",
     "start_time": "2023-06-30T00:42:50.847667Z"
    }
   },
   "outputs": [],
   "source": []
  },
  {
   "cell_type": "markdown",
   "id": "d18b5e09",
   "metadata": {},
   "source": [
    "5. Faça um programa que imprima o maior número de uma lista, sem usar o método max()"
   ]
  },
  {
   "cell_type": "code",
   "execution_count": 117,
   "id": "9fca7730",
   "metadata": {
    "ExecuteTime": {
     "end_time": "2023-06-30T00:43:38.103964Z",
     "start_time": "2023-06-30T00:43:38.087649Z"
    }
   },
   "outputs": [
    {
     "name": "stdout",
     "output_type": "stream",
     "text": [
      "10\n"
     ]
    }
   ],
   "source": [
    "num_ant = 0\n",
    "\n",
    "for numero in lista_n:\n",
    "    num_ant = numero\n",
    "    if numero > num_ant:\n",
    "        continue\n",
    "print(numero)\n",
    "\n"
   ]
  },
  {
   "cell_type": "code",
   "execution_count": null,
   "id": "397a3869",
   "metadata": {
    "ExecuteTime": {
     "end_time": "2023-06-30T00:44:52.164241Z",
     "start_time": "2023-06-30T00:44:52.141961Z"
    }
   },
   "outputs": [],
   "source": []
  },
  {
   "cell_type": "code",
   "execution_count": null,
   "id": "b2de34f2",
   "metadata": {
    "ExecuteTime": {
     "end_time": "2023-06-30T00:47:07.551587Z",
     "start_time": "2023-06-30T00:47:07.534567Z"
    }
   },
   "outputs": [],
   "source": []
  },
  {
   "cell_type": "markdown",
   "id": "de77429c",
   "metadata": {},
   "source": [
    "6. Agora usando o método max() faça um programa que imprima os três maiores números de uma lista. "
   ]
  },
  {
   "cell_type": "code",
   "execution_count": 111,
   "id": "b7811538",
   "metadata": {
    "ExecuteTime": {
     "end_time": "2023-06-30T00:49:02.203695Z",
     "start_time": "2023-06-30T00:49:02.189583Z"
    }
   },
   "outputs": [
    {
     "name": "stdout",
     "output_type": "stream",
     "text": [
      "[10, 8, 7]\n"
     ]
    }
   ],
   "source": [
    "maior = []\n",
    "for num in range(3):\n",
    "    maior.append(max(lista_n))\n",
    "    lista_n.remove(max(lista_n))\n",
    "    \n",
    "print(maior)\n"
   ]
  },
  {
   "cell_type": "markdown",
   "id": "805a40b8",
   "metadata": {},
   "source": [
    "7. Faça um programa que, dadas duas listas de mesmo tamanho, crie uma nova lista com cada elemento igual a soma dos elementos da lista 1 com os da lista 2, na mesma posição. "
   ]
  },
  {
   "cell_type": "code",
   "execution_count": 132,
   "id": "6819a3bd",
   "metadata": {
    "ExecuteTime": {
     "end_time": "2023-06-30T01:01:48.670088Z",
     "start_time": "2023-06-30T01:01:48.649865Z"
    }
   },
   "outputs": [
    {
     "name": "stdout",
     "output_type": "stream",
     "text": [
      "[70, 90, 110, 130, 150]\n"
     ]
    }
   ],
   "source": [
    "lista_a = [10, 20, 30, 40, 50]\n",
    "lista_b = [60, 70, 80, 90, 100]\n",
    "soma = []\n",
    "\n",
    "for n1 in range(len(lista_a)):\n",
    "    soma.append(lista_a[n1]+lista_b[n1])\n",
    "\n",
    "print(soma)\n",
    "\n"
   ]
  },
  {
   "cell_type": "markdown",
   "id": "d2ee0a79",
   "metadata": {},
   "source": [
    "8. Faça um programa que dadas duas listas de mesmo tamanho, imprima o produto escalar entre elas. "
   ]
  },
  {
   "cell_type": "code",
   "execution_count": 146,
   "id": "ccfcd767",
   "metadata": {
    "ExecuteTime": {
     "end_time": "2023-06-30T00:55:17.103825Z",
     "start_time": "2023-06-30T00:55:17.078094Z"
    }
   },
   "outputs": [
    {
     "name": "stdout",
     "output_type": "stream",
     "text": [
      "130\n"
     ]
    }
   ],
   "source": [
    "# Produto escalar = [a[0]*b[0] + a[1]*b[1] + a[n]*b[n]]\n",
    "lista_a = [1, 2, 3, 4, 5]\n",
    "lista_b = [6, 7, 8, 9, 10]\n",
    "produto_escalar = 0\n",
    "for i in range(len(lista_a)):\n",
    "    produto_escalar += lista_a[i]*lista_b[i]\n",
    "print(produto_escalar)"
   ]
  },
  {
   "cell_type": "markdown",
   "id": "551c234e",
   "metadata": {},
   "source": [
    "9. Faça um programa que pede para o usuário digitar 5 números e, ao final, imprime uma lista com os 5 números digitados pelo usuário (sem converter os números para int ou float). "
   ]
  },
  {
   "cell_type": "code",
   "execution_count": 158,
   "id": "1083f943",
   "metadata": {
    "ExecuteTime": {
     "end_time": "2023-06-30T00:58:14.308593Z",
     "start_time": "2023-06-30T00:58:02.724853Z"
    }
   },
   "outputs": [
    {
     "name": "stdout",
     "output_type": "stream",
     "text": [
      "['1', '2', '3', '4', '5']\n"
     ]
    }
   ],
   "source": [
    "count = 0\n",
    "lista_entrada = []\n",
    "while count < 5:\n",
    "    entrada = input('Digite um número:')\n",
    "    lista_entrada.append(entrada)\n",
    "    count += 1\n",
    "print(lista_entrada)"
   ]
  },
  {
   "cell_type": "markdown",
   "id": "437b4b02",
   "metadata": {},
   "source": [
    "10. Pegue a lista gerada no exercício anterior e transforme cada um dos itens dessa lista em um float."
   ]
  },
  {
   "cell_type": "code",
   "execution_count": 149,
   "id": "ac33840d",
   "metadata": {
    "ExecuteTime": {
     "end_time": "2023-06-30T00:57:02.197028Z",
     "start_time": "2023-06-30T00:57:02.178601Z"
    }
   },
   "outputs": [
    {
     "name": "stdout",
     "output_type": "stream",
     "text": [
      "[1.0, 2.0, 3.0, 4.0, 5.0]\n"
     ]
    }
   ],
   "source": [
    "lista_float = []\n",
    "\n",
    "for numero in lista_entrada:\n",
    "    lista_float.append(float(numero))\n",
    "print(lista_float)"
   ]
  },
  {
   "cell_type": "code",
   "execution_count": 159,
   "id": "8c31450c",
   "metadata": {
    "ExecuteTime": {
     "end_time": "2023-06-30T00:59:44.028566Z",
     "start_time": "2023-06-30T00:59:44.008261Z"
    }
   },
   "outputs": [
    {
     "name": "stdout",
     "output_type": "stream",
     "text": [
      "[1.0, 2.0, 3.0, 4.0, 5.0]\n"
     ]
    }
   ],
   "source": [
    "for i in range(len(lista_entrada)):\n",
    "    lista_entrada[i] = float(lista_entrada[i])\n",
    "print(lista_entrada)\n"
   ]
  },
  {
   "cell_type": "markdown",
   "id": "1f274ced",
   "metadata": {},
   "source": [
    "11. Faça um Programa que peça as 4 notas bimestrais e mostre a média, usando listas."
   ]
  },
  {
   "cell_type": "code",
   "execution_count": 163,
   "id": "7211dfca",
   "metadata": {
    "ExecuteTime": {
     "end_time": "2023-06-30T01:00:21.646709Z",
     "start_time": "2023-06-30T01:00:14.613647Z"
    }
   },
   "outputs": [
    {
     "name": "stdout",
     "output_type": "stream",
     "text": [
      "55.0\n"
     ]
    }
   ],
   "source": [
    "notas_bimestre = []\n",
    "for i in range(1,5):\n",
    "    notas_bimestre.append(float(input(f'Digite a nota do {i}° bimestre:'))) \n",
    "\n",
    "media = sum(notas_bimestre)/len(notas_bimestre)\n",
    "print(media)\n"
   ]
  },
  {
   "cell_type": "code",
   "execution_count": null,
   "id": "0beeca4f",
   "metadata": {},
   "outputs": [],
   "source": []
  }
 ],
 "metadata": {
  "kernelspec": {
   "display_name": "Python 3 (ipykernel)",
   "language": "python",
   "name": "python3"
  },
  "language_info": {
   "codemirror_mode": {
    "name": "ipython",
    "version": 3
   },
   "file_extension": ".py",
   "mimetype": "text/x-python",
   "name": "python",
   "nbconvert_exporter": "python",
   "pygments_lexer": "ipython3",
   "version": "3.12.2"
  },
  "varInspector": {
   "cols": {
    "lenName": 16,
    "lenType": 16,
    "lenVar": 40
   },
   "kernels_config": {
    "python": {
     "delete_cmd_postfix": "",
     "delete_cmd_prefix": "del ",
     "library": "var_list.py",
     "varRefreshCmd": "print(var_dic_list())"
    },
    "r": {
     "delete_cmd_postfix": ") ",
     "delete_cmd_prefix": "rm(",
     "library": "var_list.r",
     "varRefreshCmd": "cat(var_dic_list()) "
    }
   },
   "types_to_exclude": [
    "module",
    "function",
    "builtin_function_or_method",
    "instance",
    "_Feature"
   ],
   "window_display": false
  }
 },
 "nbformat": 4,
 "nbformat_minor": 5
}
