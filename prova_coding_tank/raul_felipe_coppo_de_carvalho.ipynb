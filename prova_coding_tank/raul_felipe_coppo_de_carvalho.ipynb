{
 "cells": [
  {
   "cell_type": "markdown",
   "metadata": {},
   "source": [
    "# Questão 1:\n",
    "\n",
    "Na área de registro de pagamento de um grande banco, é importantíssimo que os dados sejam tratados apropriadamente. Sendo assim, é fundamental que os tipos de variáveis sejam definidos de acordo com a finalidade a que se destinam. Isto posto, considere o trecho de código abaixo, parte de um sistema de processamento de dados de pagamentos:\n",
    "\n",
    "``v = input(\"Digite o valor da compra: \")``\n",
    "\n",
    "Avaliando as assertivas que se seguem, assinale a alternativa correta.\n",
    "\n",
    "I – a variável v será do tipo str (string).\n",
    "\n",
    "II – sabemos que operações algébricas serão feitas com a variável v no decorrer do programa. Sendo assim, o tipo desta variável é irrelevante.\n",
    "\n",
    "III – a variável v será sempre numérica, dado que a instrução no input indica claramente que seja digitado um valor de compra (que é numérico)\n",
    "\n",
    "a) Apenas a assertiva I é correta\n",
    "\n",
    "b) Apenas a assertiva II é correta\n",
    "\n",
    "c) Apenas a assertiva III é correta\n",
    "\n",
    "d) Todas as assertivas são corretas\n",
    "\n",
    "e) Todas as assertivas são incorretas"
   ]
  },
  {
   "cell_type": "markdown",
   "metadata": {},
   "source": [
    "### Resposta correta: D - Todas as assertivas são corretas\n",
    "\n",
    "Justificativa: \n",
    "\n",
    "I) A função input() sempre retorna um objeto do tipo string\n",
    "\n",
    "II) No momento do input() não importa o tipo da variável, porém ela deverá ser tratada corretamente durante o programa para realizar os cálculos corretos.\n",
    "Obs: Se tratando de dinheiro, eu não diria que o tipo dessa variável é irrelevante, pois deve ser tratada como float, e não como int.\n",
    "\n",
    "III) Como está claro na função input() que o usuário deve digitar um número, então essa variável sempre será numérica."
   ]
  },
  {
   "cell_type": "code",
   "execution_count": 14,
   "metadata": {},
   "outputs": [
    {
     "name": "stdout",
     "output_type": "stream",
     "text": [
      "<class 'str'> 15.4\n"
     ]
    }
   ],
   "source": [
    "v = input(\"Digite o valor da compra:\")\n",
    "print(type(v), v)"
   ]
  },
  {
   "cell_type": "markdown",
   "metadata": {},
   "source": [
    "# Questão 2:\n",
    "\n",
    "Como parte do código de uma rotina de processamento de informações financeiras, precisamos guardar, em uma lista, informações sobre as taxas de manutenção cobradas em certos tipos de contas. No que diz respeito à inicialização de listas em Python, avalie as formas de inicialização abaixo, indicando a alternativa correta:\n",
    "\n",
    "I) ``lista_taxas = []``\n",
    "\n",
    "II) ``lista_taxas = (0.08, 0.09)``\n",
    "\n",
    "III) ``lista_taxas = list[0.08, 0.09]``\n",
    "\n",
    "IV) ``lista_taxas = [0.08, 0.09]``\n",
    "\n",
    "V) ``lista_taxas = list(“89”)``\n",
    "\n",
    "\n",
    "a) Nenhuma das formas acima é uma maneira válida de inicializar uma lista em Python\n",
    "\n",
    "b) Apenas as alternativas I e II são válidas para inicializar uma lista em Python\n",
    "\n",
    "c) Apenas as alternativas II, III e IV são válidas para inicializar uma lista em Python\n",
    "\n",
    "d) Apenas as alternativas I, IV e V são válidas para inicializar uma lista em Python\n",
    "\n",
    "e) Todas as alternativas são opções viáveis de inicialização de listas em Python\n",
    "\n"
   ]
  },
  {
   "cell_type": "markdown",
   "metadata": {},
   "source": [
    "### Respota correta: D - Apenas as alternativas I, IV e V são válidas\n",
    "\n",
    "Justificativa:\n",
    "\n",
    "Todas são do tipo lista como exemplificado abaixo."
   ]
  },
  {
   "cell_type": "code",
   "execution_count": 13,
   "metadata": {},
   "outputs": [
    {
     "name": "stdout",
     "output_type": "stream",
     "text": [
      "<class 'list'> []\n",
      "<class 'tuple'> (0.08, 0.09)\n",
      "<class 'types.GenericAlias'>\n",
      "<class 'list'> [0.08, 0.09]\n",
      "<class 'list'> ['8', '9']\n"
     ]
    }
   ],
   "source": [
    "# Inicia uma lista vazia\n",
    "lista_taxas = [] # correto\n",
    "print(type(lista_taxas), lista_taxas)\n",
    "\n",
    "lista_taxas = (0.08, 0.09) # é uma tupla e não lista (incorreto)\n",
    "print(type(lista_taxas), lista_taxas)\n",
    "\n",
    "lista_taxas = list[0.08, 0.09] # incorreto\n",
    "print(type(lista_taxas))\n",
    "\n",
    "lista_taxas = [0.08, 0.09] # correto\n",
    "print(type(lista_taxas), lista_taxas)\n",
    "\n",
    "lista_taxas = list(\"89\") # correto\n",
    "print(type(lista_taxas), lista_taxas)\n",
    "\n",
    "\n"
   ]
  },
  {
   "cell_type": "markdown",
   "metadata": {},
   "source": [
    "# Questão 3:\n",
    "\n",
    "Como parte da equipe de facilities de um banco, você precisa implementar um código em Python que calcula o preço total de uma compra, dado o preço unitário de um dado produto (armazenado na variável preco) e a quantidade de unidades compradas (armazenado na variável quantidade). Assuma que temos apenas um único produto comprado. Assinale a alternativa que corretamente implementa este procedimento:\n",
    "\n",
    "a) ``preco_total = quantidade *= preco``\n",
    "\n",
    "b) ``preco_total = quantidade * preco``\n",
    "\n",
    "c) ``preco_total = quantidade += preco``\n",
    "\n",
    "d) ``preco_total = quantidade / preco``\n",
    "\n",
    "e) nda\n",
    "\n"
   ]
  },
  {
   "cell_type": "markdown",
   "metadata": {},
   "source": [
    "### Resposta: B - preco_total = quantidade * preco\n",
    "\n",
    "Justificativa:\n",
    "\n",
    "multiplica de forma correta o valor da quantidade pelo preço do produto, e salva na variável ``preco_total``"
   ]
  },
  {
   "cell_type": "code",
   "execution_count": 18,
   "metadata": {},
   "outputs": [
    {
     "name": "stdout",
     "output_type": "stream",
     "text": [
      "10\n"
     ]
    }
   ],
   "source": [
    "preco = 10\n",
    "quantidade = 1\n",
    "# preco_total = quantidade *= preco # sintaxe inválida\n",
    "# print(preco_total)\n",
    "\n",
    "preco_total = quantidade * preco # correto, multiplica o valor da quantidade pelo preço e guarda na variável preco_total\n",
    "print(preco_total)\n",
    "\n",
    "# preco_total = quantidade += preco # sintaxe inválida, além do mais está somando e não multiplicando quantidade pelo preço do produto\n",
    "\n",
    "preco_total = quantidade / preco # sintaxe válida, porém está incorreto pois divide a quantidade pelo preço."
   ]
  },
  {
   "cell_type": "markdown",
   "metadata": {},
   "source": [
    "# Questão 4:\n",
    "\n",
    "Analise o seguinte código e indique a alternativa que corretamente indica as mensagens que foram exibidas na tela:\n",
    "\n",
    "a) Saída 5\n",
    "\n",
    "b) Saída 1 e Saída 3\n",
    "\n",
    "c) Saída 1 e Saída 5\n",
    "\n",
    "d) Saída 1, Saída 3 e Saída 5\n",
    "\n",
    "e) Saída 1, Saída 4 e Saída 5\n",
    "\n",
    "### Resposta: Alternativa D - Saída 1, Saída 3 e Saída 5\n",
    "\n",
    "Justificativa:\n",
    "\n",
    "O primeiro if está isolado, então ele sempre será testado, independente das outras situações e nesse caso ``var_a`` é MAIOR QUE ``var_b`` (print da Saída 1).\n",
    "\n",
    "Em seguida, temos uma cadeia de verificações, sendo a primeira falsa, pois ``var_a`` é MENOR QUE ``var_c``.\n",
    "\n",
    "Como o primeiro if dessa cadeia é falso, o código segue para validar o primeiro ELIF, e a somatória de ``var_b + var_c = 2``, logo ``var_a`` é MAIOR QUE 2 (print da Saída 3).\n",
    "O código não passa pelo else, pois a condição do elif foi verdadeira.\n",
    "\n",
    "Por fim, faz um print da Saída 5 pois não está em nenhum bloco, sendo a última ação a ser executada no código."
   ]
  },
  {
   "cell_type": "code",
   "execution_count": 19,
   "metadata": {},
   "outputs": [
    {
     "name": "stdout",
     "output_type": "stream",
     "text": [
      "Saída 1\n",
      "Saída 3\n",
      "Saída 5\n"
     ]
    }
   ],
   "source": [
    "var_a = 4\n",
    "var_b = -6\n",
    "var_c = 8\n",
    "\n",
    "if var_a > var_b:\n",
    "    print('Saída 1')\n",
    "    \n",
    "if var_a > var_c:\n",
    "    print('Saída 2')\n",
    "elif var_a > var_b + var_c:\n",
    "    print('Saída 3')\n",
    "else:\n",
    "    print('Saída 4')\n",
    "    \n",
    "print('Saída 5')"
   ]
  },
  {
   "cell_type": "markdown",
   "metadata": {},
   "source": [
    "# Questão 5: ANULADA"
   ]
  },
  {
   "cell_type": "markdown",
   "metadata": {},
   "source": [
    "# Questão 6:\n",
    "\n",
    "Considere o seguinte trecho de código em Python:\n",
    "\n",
    "``lista_1 = [0, 1, 2, 3, 4]``\n",
    "\n",
    "``lista_2 = lista_1[:]``\n",
    "\n",
    "``lista_2[0] = 42``\n",
    "\n",
    "``print(lista_1[0])``\n",
    "\n",
    "Qual o valor exibido na tela, a partir da execução deste trecho de código?\n",
    "\n",
    "a) [0, 1, 2, 3, 4]\n",
    "\n",
    "b) 0\n",
    "\n",
    "c) 4\n",
    "\n",
    "d) [4, 3, 2, 1, 0]\n",
    "\n",
    "e) None\n",
    "\n",
    "### Resposta: B - 0\n",
    "\n",
    "Justificativa:\n",
    "\n",
    "O único print do código mostra na tela o VALOR DO ÍNDICE 0 da ``lista_1``, que nesse caso é 0"
   ]
  },
  {
   "cell_type": "code",
   "execution_count": 23,
   "metadata": {},
   "outputs": [
    {
     "name": "stdout",
     "output_type": "stream",
     "text": [
      "0\n"
     ]
    }
   ],
   "source": [
    "lista_1 = [0, 1, 2, 3, 4]\n",
    "\n",
    "lista_2 = lista_1[:] # pega a lista_1 inteira\n",
    "\n",
    "lista_2[0] = 42 # altera o valor do índice 0 da lista_2 para 42\n",
    "\n",
    "print(lista_1[0]) # imprime o índice 0 da lista_1, qu enesse caso é igual a 0"
   ]
  },
  {
   "cell_type": "markdown",
   "metadata": {},
   "source": [
    "# Questão 7:\n",
    "\n",
    "Ao prospectar clientes, é importante que sejam mapeadas características capazes de definir perfis específicos, para que se possam estabelecer campanhas mais direcionadas a cada público. Dentre estas características, considerando o contexto de ofertas de produtos para clientes PJ de um banco, pode ser importante saber, por exemplo, quanto em média o cliente PJ fatura por dia em uma semana típica.\n",
    "\n",
    "Neste contexto, você precisa implementar um protótipo de uma solução, em Python, que faz o seguinte:\n",
    "\n",
    "* recebe, como entrada, o faturamento total de cada dia de uma semana (recebendo, portanto, 7 números);\n",
    "\n",
    "* exibe na tela, como saída, o faturamento diário médio (com base nas informações de faturamento da semana informada)."
   ]
  },
  {
   "cell_type": "code",
   "execution_count": 34,
   "metadata": {},
   "outputs": [
    {
     "name": "stdout",
     "output_type": "stream",
     "text": [
      "O faturamento médio diário é 98.71\n"
     ]
    }
   ],
   "source": [
    "faturamento_total = []\n",
    "soma_faturamento = 0.0\n",
    "\n",
    "for dia in range(1, 8):\n",
    "    faturamento_total.append((input(f'Insira o valor do faturamento do {dia}° dia ')))\n",
    "\n",
    "for valor in faturamento_total:\n",
    "    soma_faturamento += float(valor)\n",
    "\n",
    "media_diaria = soma_faturamento / len(faturamento_total)\n",
    "\n",
    "print(f'O faturamento médio diário é {media_diaria:.2f}')\n"
   ]
  },
  {
   "cell_type": "markdown",
   "metadata": {},
   "source": [
    "# Questão 8:\n",
    "\n",
    "Trabalhando na equipe de facilities de um banco, muitas vezes você faz compras internacionais, e acaba se deparando com diversas unidades de medida que caracterizam os produtos: em alguns países, medidas como onça fluida, libra e pés são muito comuns para medir volume, massa e comprimento, respectivamente.\n",
    "\n",
    "Neste contexto, escreva um programa que seja uma calculadora para converter as medidas mencionadas acima para o sistema internacional (litro, quilograma e metro). Os fatores de conversão são os seguintes:\n",
    "\n",
    "1 onça fluida = 0,0295735 litros 1 libra = 0,453592 quilogramas 1 pé = 0,3048 metros\n",
    "\n",
    "A calculadora deve ser capaz de realizar tanto a conversão para o sistema internacional quanto a conversão de volta para as unidades originais.\n",
    "\n",
    "Seu programa deve receber os inputs adequados do usuário para que seja completamente especificada a quantidade a ser convertida, e quais as unidades envolvidas na conversão desejada. Por fim, o programa deve exibir na tela tanto o valor na unidade original quanto na unidade convertida.\n",
    "\n",
    "Exemplo: se o usuário quiser converter 5 libras para quilogramas, a mensagem a ser exibida na tela como resultado do programa deve ser: \"5.0 libras é igual a 2.26796 quilogramas.\"."
   ]
  },
  {
   "cell_type": "code",
   "execution_count": 50,
   "metadata": {},
   "outputs": [
    {
     "name": "stdout",
     "output_type": "stream",
     "text": [
      "Escolha uma das opções abaixo ou SAIR: \n",
      "1) ONÇA FLUIDA -> LITROS\n",
      "2) LIBRA -> QUILOGRAMA\n",
      "3) PÉ -> METROS\n",
      "\n",
      "4) LITROS -> ONÇA FLUIDA\n",
      "5) QUILOGRAMA -> LIBRA\n",
      "6) METROS -> PÉ\n",
      "Opção escolhida: 2\n",
      "3.0 libras é igual a 1.360776 Quilogramas\n",
      "\n",
      "Escolha uma das opções abaixo ou SAIR: \n",
      "1) ONÇA FLUIDA -> LITROS\n",
      "2) LIBRA -> QUILOGRAMA\n",
      "3) PÉ -> METROS\n",
      "\n",
      "4) LITROS -> ONÇA FLUIDA\n",
      "5) QUILOGRAMA -> LIBRA\n",
      "6) METROS -> PÉ\n"
     ]
    }
   ],
   "source": [
    "converte_internacional = ['1) ONÇA FLUIDA -> LITROS', '2) LIBRA -> QUILOGRAMA', '3) PÉ -> METROS']\n",
    "converte_nacional = ['4) LITROS -> ONÇA FLUIDA', '5) QUILOGRAMA -> LIBRA', '6) METROS -> PÉ']\n",
    "\n",
    "while True:\n",
    "    print('Escolha uma das opções abaixo ou SAIR: ')\n",
    "    for unidade_internacional in converte_internacional:\n",
    "        print(unidade_internacional)\n",
    "    print()\n",
    "    for unidade_nacional in converte_nacional:\n",
    "        print(unidade_nacional)\n",
    "\n",
    "    unidade = input('Escolha uma opção')\n",
    "    if unidade.upper() == 'SAIR':\n",
    "        break\n",
    "\n",
    "    print(f'Opção escolhida: {unidade}')\n",
    "    if unidade == '1':\n",
    "        litros = input('Digite o valor em Litros que deseja converter:')\n",
    "\n",
    "        if litros.isdigit():\n",
    "            litros = float(litros)\n",
    "\n",
    "            resultado = litros * 0.0295735\n",
    "            print(f'{litros} litros é igual a {resultado} Onças Fluída\\n')\n",
    "        else:\n",
    "            print('Digite apenas números')\n",
    "            continue\n",
    "\n",
    "    elif unidade == '2':\n",
    "        libras = input('Digite o valor em Libras que deseja converter:')\n",
    "\n",
    "        if libras.isdigit():\n",
    "            libras = float(libras)\n",
    "\n",
    "            resultado = libras * 0.453592\n",
    "            print(f'{libras} libras é igual a {resultado} Quilogramas\\n')\n",
    "        else:\n",
    "            print('Digite apenas números.')\n",
    "            continue\n",
    "\n",
    "    elif unidade == '3':\n",
    "        ft = input('Digite o valor em Pés que deseja converter:')\n",
    "\n",
    "        if ft.isdigit():\n",
    "            ft = float(ft)\n",
    "\n",
    "            resultado = ft * 0.3048\n",
    "            print(f'{ft} Pés é igual a {resultado} Metros\\n')\n",
    "        else:\n",
    "            print('Digite apenas números.')\n",
    "            continue\n",
    "\n",
    "    elif unidade == '4':\n",
    "        oz = input('Digite o valor em Onça Fluída que deseja converter:')\n",
    "\n",
    "        if oz.isdigit():\n",
    "            oz = float(oz)\n",
    "\n",
    "            resultado = oz / 0.0295735\n",
    "            print(f'{oz} Onças Fluída é igual a {resultado} Litros\\n')\n",
    "            # continue\n",
    "        else:\n",
    "            print('Digite apenas números\\n')\n",
    "            continue\n",
    "\n",
    "    elif unidade == '5':\n",
    "        quilogramas = input('Digite o valor em Quilogramas(KG) que deseja converter:')\n",
    "\n",
    "        if quilogramas.isdigit():\n",
    "            quilogramas = float(quilogramas)\n",
    "\n",
    "            resultado = quilogramas / 0.453592\n",
    "            print(f'{quilogramas} Quilogramas é igual a {resultado} Libras\\n')\n",
    "        else:\n",
    "            print('Digite apenas números')\n",
    "            continue\n",
    "\n",
    "    elif unidade == '6':\n",
    "        metros = input('Digite o valor em Metros que deseja converter:')\n",
    "\n",
    "        if metros.isdigit():\n",
    "            metros = float(metros)\n",
    "\n",
    "            resultado = metros * 0.3048\n",
    "            print(f'{metros} Metros é igual a {resultado} Pés\\n')\n",
    "        else:\n",
    "            print('Digite apenas números.')\n",
    "            continue\n",
    "    else:\n",
    "        print('Opção inválida. Tente novamente')\n",
    "        print()\n",
    "        continue\n",
    "\n",
    "    # break"
   ]
  },
  {
   "cell_type": "markdown",
   "metadata": {},
   "source": [
    "# Questão 9:\n",
    "\n",
    "Um conceito muito comum no mercado financeiro é o de média móvel. A ideia da média móvel é suavizar uma série temporal de dados para identificar tendências ao longo do tempo. Em vez de considerar cada ponto de dados individualmente, a média móvel calcula a média de um conjunto de dados dentro de uma janela de tempo específica, deslocando essa janela ao longo da série temporal.\n",
    "\n",
    "Em outras palavras: ao calcular a média móvel com janela de tamanho n para uma lista de valores, cada elemento da lista original é substituído pela média dos n elementos dentro da janela que termina no próprio elemento -- ou seja, a soma dos n-1 valores anteriores ao elemento com o valor do próprio elemento, dividido por n.\n",
    "\n",
    "Considere a lista de 10 valores a seguir: ``[3, 5, 8, 2, 7, 10, 3, 6, 9, 4]``.\n",
    "\n",
    "Escreva um programa que calcula a média móvel em janelas de 3 valores dessa lista (ou seja, n=3) e exiba na tela a lista resultante deste procedimento."
   ]
  },
  {
   "cell_type": "code",
   "execution_count": 65,
   "metadata": {},
   "outputs": [
    {
     "name": "stdout",
     "output_type": "stream",
     "text": [
      "[5.333333333333333, 5.0, 5.666666666666667, 6.333333333333333, 6.666666666666667, 6.333333333333333, 6.0, 6.333333333333333]\n"
     ]
    }
   ],
   "source": [
    "lista = [3, 5, 8, 2, 7, 10, 3, 6, 9, 4]\n",
    "n = 3 # janela\n",
    "media_movel = []\n",
    "\n",
    "for numero in range(len(lista) - n + 1):\n",
    "    media = sum(lista[numero:numero + n]) / n\n",
    "    media_movel.append(media)\n",
    "\n",
    "print(media_movel)\n",
    "\n",
    "# para posição 2 [3, 5, 8] -> (3 + 5 + 8) = 16 / 3 = 5,3333\n",
    "# para posição 3 [5, 8, 2] - (5 + 8 + 2) = 15 / 3 = 5 \n",
    "# ...\n",
    "# para posicao i [(i - 2), (i - 1), (i - 1)] / n "
   ]
  },
  {
   "cell_type": "markdown",
   "metadata": {},
   "source": [
    "# Questão 10:\n",
    "\n",
    "Um sistema de avaliação de saúde será desenvolvido por você para ajudar médicos do trabalho a avaliar a saúde de seus pacientes, que são funcionários de um grande banco.\n",
    "\n",
    "Os pacientes recebem uma nota de 0 a 100 para cada um dos seguintes critérios: preparo físico, alimentação saudável, saúde do coração e saúde mental.\n",
    "\n",
    "Um paciente com nota média acima de 70 é considerado saudável, enquanto pacientes com nota média abaixo de 70 são enviados para uma avaliação completa. Entretanto, caso a saúde do coração ou a saúde mental de um paciente estejam abaixo de 30, o paciente será encaminhado para uma avaliação completa independente da média.\n",
    "\n",
    "Escreva um programa que implementa a lógica acima, em que é exibido na tela o resultado da avaliação (\"paciente saudável\" ou \"paciente encaminhado para avaliação completa\") com base nas notas para os 4 critérios supracitados (você pode atribuir valores específicos para as notas para testar seu programa)."
   ]
  },
  {
   "cell_type": "code",
   "execution_count": 63,
   "metadata": {},
   "outputs": [
    {
     "name": "stdout",
     "output_type": "stream",
     "text": [
      "Paciente saudável com média 72.5\n"
     ]
    }
   ],
   "source": [
    "criterios = ['preparo físico', 'alimentação saudável', 'saúde do coração', 'saúde mental']\n",
    "nota_paciente = []\n",
    "# saudavel = media > 70\n",
    "# avaliacao_completa = media < 70\n",
    "# se (saude_coracao or saude_mental) < 30: avaliacao_completa independente da media\n",
    "\n",
    "for nota in range(len(criterios)):\n",
    "    nota_paciente.append(int(input(f'Digite uma nota para o(a) {criterios[nota]} do paciente')))\n",
    "\n",
    "media = sum(nota_paciente) / len(criterios)\n",
    "\n",
    "if nota_paciente[2] < 30 or nota_paciente[3] < 30:\n",
    "    print('Paciente precisa fazer avaliação completa!!!')\n",
    "else:\n",
    "    if media > 70:\n",
    "        print(f'Paciente saudável com média {media}')\n",
    "    else:\n",
    "        print(f'O paciente precisa fazer uma avaliação completa.')\n",
    "# print(nota_paciente)"
   ]
  }
 ],
 "metadata": {
  "kernelspec": {
   "display_name": "Python 3",
   "language": "python",
   "name": "python3"
  },
  "language_info": {
   "codemirror_mode": {
    "name": "ipython",
    "version": 3
   },
   "file_extension": ".py",
   "mimetype": "text/x-python",
   "name": "python",
   "nbconvert_exporter": "python",
   "pygments_lexer": "ipython3",
   "version": "3.12.2"
  }
 },
 "nbformat": 4,
 "nbformat_minor": 2
}
