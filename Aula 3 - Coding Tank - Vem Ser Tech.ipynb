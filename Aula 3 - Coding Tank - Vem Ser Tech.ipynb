{
 "cells": [
  {
   "cell_type": "markdown",
   "id": "72cae5bf",
   "metadata": {},
   "source": [
    "<div style=\"background-color: black; padding: 18px;\">\n",
    "    <h1> Coding Tank | Vem Ser Tech \n",
    "</div>"
   ]
  },
  {
   "cell_type": "markdown",
   "id": "36ea7563",
   "metadata": {},
   "source": [
    "<div style=\"background-color: black; padding: 10px;\">\n",
    "    <h2> Tópicos da aula - AULA 3\n",
    "</div>\n",
    "    \n",
    "- Estruturas de repetição\n",
    "- Loop while"
   ]
  },
  {
   "cell_type": "markdown",
   "id": "e339739b",
   "metadata": {},
   "source": [
    "Na aula passada fizemos o programa que a pessoa digitava 2 números e a gente dizia o maior. E se quisermos saber qual o maior entre 3 valores? E se quisermos 10? E se quisermos 100? Conseguimos fazer?"
   ]
  },
  {
   "cell_type": "code",
   "execution_count": 1,
   "id": "3a4661d9",
   "metadata": {},
   "outputs": [
    {
     "name": "stdout",
     "output_type": "stream",
     "text": [
      "O maior valor entre eles é 2\n"
     ]
    }
   ],
   "source": [
    "num1 = int(input(\"Digite um número: \"))\n",
    "num = int(input(\"Digite outro número: \"))\n",
    "\n",
    "if num1 > num:\n",
    "    print(f'O maior valor entre eles é {num1}')\n",
    "elif num > num1:\n",
    "    print(f'O maior valor entre eles é {num}')\n",
    "else:\n",
    "    print(f\"Os números são iguais e tem o valor de {num1}\")"
   ]
  },
  {
   "cell_type": "code",
   "execution_count": 11,
   "id": "370b6564",
   "metadata": {},
   "outputs": [
    {
     "name": "stdout",
     "output_type": "stream",
     "text": [
      "Os números são todos iguais.\n"
     ]
    }
   ],
   "source": [
    "num1 = int(input(\"Digite um número: \"))\n",
    "num2 = int(input(\"Digite outro número: \"))\n",
    "num3 = int(input(\"Digite mais um número: \"))\n",
    "\n",
    "if num1 > num2 and num1 > num3:\n",
    "    print(f'O maior valor entre eles é {num1}')\n",
    "elif num2 > num1 and num2 > num3:\n",
    "    print(f'O maior valor entre eles é {num}')\n",
    "elif num3 > num1 and num3 > num2:\n",
    "    print(f'O maior valor entre eles é {num3}.')\n",
    "else:\n",
    "    print('Os números são todos iguais.')\n",
    "\n",
    "    # cabe melhoria nesse código porque não significa que são todos iguais, pode ser apenas 2 iguais"
   ]
  },
  {
   "cell_type": "code",
   "execution_count": 11,
   "id": "8e869f70",
   "metadata": {},
   "outputs": [
    {
     "name": "stdout",
     "output_type": "stream",
     "text": [
      "O maior número é 2\n"
     ]
    }
   ],
   "source": [
    "num = int(input(\"Digite o 1º número: \"))\n",
    "n2 = int(input(\"Digite o 2º número: \"))\n",
    "n3 = int(input(\"Digite o 3º número: \"))\n",
    "max_n = num\n",
    "if n2 > max_n:\n",
    "    max_n = n2\n",
    "elif n3 > max_n:\n",
    "    max_n = n3\n",
    "print(f\"O maior número é {max_n}\")"
   ]
  },
  {
   "cell_type": "markdown",
   "id": "3fe6e9ae",
   "metadata": {},
   "source": [
    "# Estruturas de Repetição\n",
    "\n",
    "Um **if** não garante que eu consigo validar o valor de um campo pois se o usuário não acertar na 2a vez, ele seguirá inválido"
   ]
  },
  {
   "cell_type": "code",
   "execution_count": 16,
   "id": "3045daff",
   "metadata": {},
   "outputs": [
    {
     "name": "stdout",
     "output_type": "stream",
     "text": [
      "Salário válido 1450.0\n"
     ]
    }
   ],
   "source": [
    "salario = float(input('Digite seu salário:'))\n",
    "\n",
    "while salario < 1412:\n",
    "    salario = float(input('Salário invalido, digite novamente:'))\n",
    "\n",
    "print('Salário válido', salario)"
   ]
  },
  {
   "cell_type": "code",
   "execution_count": 1,
   "id": "df254367",
   "metadata": {},
   "outputs": [
    {
     "name": "stdout",
     "output_type": "stream",
     "text": [
      "800.0\n",
      "800.0\n",
      "800.0\n",
      "800.0\n",
      "800.0\n",
      "800.0\n",
      "800.0\n",
      "800.0\n",
      "800.0\n",
      "800.0\n",
      "800.0\n"
     ]
    }
   ],
   "source": [
    "salario = float(input('Digite seu salário:'))\n",
    "resultado = 0\n",
    "\n",
    "while salario < 900:\n",
    "    print(salario)\n",
    "    resultado += 1\n",
    "\n",
    "    if resultado > 10:\n",
    "        break"
   ]
  },
  {
   "cell_type": "code",
   "execution_count": 9,
   "id": "f51d6cc9",
   "metadata": {},
   "outputs": [
    {
     "name": "stdout",
     "output_type": "stream",
     "text": [
      "O maior número é -20\n",
      "O maior número digitado foi -20\n"
     ]
    }
   ],
   "source": []
  },
  {
   "cell_type": "markdown",
   "id": "04103985",
   "metadata": {},
   "source": [
    "__Obs.__: SEMPRE que eu trabalho com estrutura de repetição (**WHILE**) é NECESSÁRIO que a condição seja alterada dentro do while, SENÃO entro em looping infinito"
   ]
  },
  {
   "cell_type": "markdown",
   "id": "541e4a88",
   "metadata": {},
   "source": [
    "<div style=\"background-color: red; padding: 10px;\">\n",
    "    <h2> CUIDADO AO RODAR - é um loop infinito\n",
    "</div>"
   ]
  },
  {
   "cell_type": "code",
   "execution_count": null,
   "id": "44c98aa4",
   "metadata": {},
   "outputs": [],
   "source": [
    "numero = int(input('Digite um número:'))\n",
    "\n",
    "maior = numero\n",
    "\n",
    "while numero != 0:\n",
    "    if numero > maior:\n",
    "        maior = numero\n",
    "    print(f'O maior número é {numero}')\n",
    "    numero = int(input('Digite um novo número ou digite 0 para encerrar:'))\n",
    "\n",
    "\n",
    "print(f'O maior número digitado foi {maior}')\n",
    "\n",
    "### esse código não ta funcionando"
   ]
  },
  {
   "cell_type": "code",
   "execution_count": null,
   "id": "dda1fea4",
   "metadata": {},
   "outputs": [],
   "source": []
  },
  {
   "cell_type": "markdown",
   "id": "b5f4c9f2",
   "metadata": {},
   "source": [
    "__Exemplo:__ Some todos os números de 0 a um número digitado pelo usuário"
   ]
  },
  {
   "cell_type": "code",
   "execution_count": 2,
   "id": "85036462",
   "metadata": {},
   "outputs": [],
   "source": [
    "# vamos digitar 4:\n",
    "\n",
    "# 0 + 1 + 2 + 3 + 4 = 10\n",
    "\n",
    "# 4 + 3 + 2 + 1 + 0 = 10\n",
    "\n",
    "# digitar 3:\n",
    "\n",
    "# 0 + 1 + 2 + 3 = 6\n",
    "\n",
    "# digitar 7:\n",
    "\n",
    "# 0 + 1 + 2 + 3 + 4 + 5 + 6 + 7 = 28"
   ]
  },
  {
   "cell_type": "code",
   "execution_count": 11,
   "id": "559afceb",
   "metadata": {},
   "outputs": [
    {
     "name": "stdout",
     "output_type": "stream",
     "text": [
      "Número digitado pelo usuário foi 5\n",
      "A soma é 15\n"
     ]
    }
   ],
   "source": [
    "soma = 0\n",
    "\n",
    "numero = int(input('Digite um número positivo:'))\n",
    "print(f'Número digitado pelo usuário foi {numero}')\n",
    "\n",
    "while numero > 0:\n",
    "    soma = soma + numero\n",
    "    numero = numero - 1\n",
    "\n",
    "print(f'A soma é {soma}')"
   ]
  },
  {
   "cell_type": "code",
   "execution_count": 26,
   "id": "82bbd8aa",
   "metadata": {},
   "outputs": [
    {
     "name": "stdout",
     "output_type": "stream",
     "text": [
      "30 + 29 + 28 + 27 + 26 + 25 + 24 + 23 + 22 + 21 + 20 + 19 + 18 + 17 + 16 + 15 + 14 + 13 + 12 + 11 + 10 + 9 + 8 + 7 + 6 + 5 + 4 + 3 + 2 + 1 + 0 = 465\n"
     ]
    }
   ],
   "source": [
    "# Desafio: mostrar como resultado '4 + 3 + 2 + 1 + 0 = resultado'\n",
    "soma = 0\n",
    "resultado = ''\n",
    "\n",
    "numero = int(input('Digite um número inteiro:\\n'))\n",
    "\n",
    "\n",
    "while numero >= 0:\n",
    "    soma += numero\n",
    "    if numero == 0:\n",
    "        resultado += str(numero)\n",
    "    else:\n",
    "        resultado += str(numero) + ' + '\n",
    "    numero -= 1\n",
    "\n",
    "print(f'{resultado} = {soma}')"
   ]
  },
  {
   "cell_type": "code",
   "execution_count": 13,
   "id": "6a859a59",
   "metadata": {},
   "outputs": [
    {
     "name": "stdout",
     "output_type": "stream",
     "text": [
      "O limite para somar é 5\n",
      "O valor da soma foi 15\n"
     ]
    }
   ],
   "source": [
    "soma = 0\n",
    "resultado = 0\n",
    "\n",
    "limite = int(input('Digite um valor inteiro para limitar a soma:'))\n",
    "print(f'O limite para somar é {limite}')\n",
    "\n",
    "while resultado <= limite:\n",
    "    soma += resultado\n",
    "    resultado += 1\n",
    "\n",
    "print(f'O valor da soma foi {soma}')\n"
   ]
  },
  {
   "cell_type": "code",
   "execution_count": 12,
   "id": "298d9fe4",
   "metadata": {},
   "outputs": [
    {
     "name": "stdout",
     "output_type": "stream",
     "text": [
      "O limite para somar é 5\n",
      "soma valor atual:  0\n",
      "soma valor atualizado:  0\n",
      "contador valor atual:  0\n",
      "contador valor atualizado:  1\n",
      "soma valor atual:  0\n",
      "soma valor atualizado:  1\n",
      "contador valor atual:  1\n",
      "contador valor atualizado:  2\n",
      "soma valor atual:  1\n",
      "soma valor atualizado:  3\n",
      "contador valor atual:  2\n",
      "contador valor atualizado:  3\n",
      "soma valor atual:  3\n",
      "soma valor atualizado:  6\n",
      "contador valor atual:  3\n",
      "contador valor atualizado:  4\n",
      "soma valor atual:  6\n",
      "soma valor atualizado:  10\n",
      "contador valor atual:  4\n",
      "contador valor atualizado:  5\n",
      "soma valor atual:  10\n",
      "soma valor atualizado:  15\n",
      "contador valor atual:  5\n",
      "contador valor atualizado:  6\n",
      "O valor da soma foi 15\n"
     ]
    }
   ],
   "source": [
    "soma = 0\n",
    "resultado = 0\n",
    "\n",
    "limite = int(input('Digite um valor inteiro para limitar a soma:'))\n",
    "print(f'O limite para somar é {limite}')\n",
    "\n",
    "while resultado <= limite:\n",
    "    print('soma valor atual: ', soma)\n",
    "    soma += resultado\n",
    "    print('soma valor atualizado: ', soma)\n",
    "    print('contador valor atual: ', resultado)\n",
    "    resultado += 1\n",
    "    print('contador valor atualizado: ', resultado)\n",
    "\n",
    "print(f'O valor da soma foi {soma}')"
   ]
  },
  {
   "cell_type": "markdown",
   "id": "a54f1580",
   "metadata": {},
   "source": [
    "Uma outra forma de incrementar um variável"
   ]
  },
  {
   "cell_type": "code",
   "execution_count": null,
   "id": "410cca56",
   "metadata": {},
   "outputs": [],
   "source": []
  },
  {
   "cell_type": "markdown",
   "id": "fff96799",
   "metadata": {},
   "source": [
    "# Alguns comandos de manipulação de fluxo\n",
    "\n",
    "Comando **break**: Utilizado para interromper a execução de um laço (for ou while) antes que ele termine normalmente.\n",
    "\n",
    "```python\n",
    "for item in sequencia:\n",
    "    if condicao:\n",
    "        break\n",
    "```\n",
    "\n",
    "Comando **continue**: Utilizado para pular a iteração atual de um laço e continuar com a próxima iteração.\n",
    "\n",
    "\n",
    "```python\n",
    "for item in sequencia:\n",
    "    if condicao:\n",
    "        continue\n",
    "    # O código aqui será executado apenas se a condição for falsa\n",
    "```\n",
    "   \n",
    "Comando **pass**: É usado como espaço reservado para código futuro. Não faz nada e é frequentemente usado para evitar erros de sintaxe em blocos vazios.\n",
    "\n",
    "```python\n",
    "if condicao:\n",
    "    pass  # código será adicionado posteriormente\n",
    "\n",
    "```"
   ]
  },
  {
   "cell_type": "markdown",
   "id": "07ed062c",
   "metadata": {},
   "source": [
    "Neste exercício, você deve criar um jogo simples em que o jogador tenta adivinhar um número secreto. O jogo continua até o jogador adivinhar corretamente ou desistir."
   ]
  },
  {
   "cell_type": "code",
   "execution_count": 28,
   "id": "ac1011cc",
   "metadata": {},
   "outputs": [
    {
     "name": "stdout",
     "output_type": "stream",
     "text": [
      "Tente um número maior\n",
      "Tente um número maior\n",
      "Tente um número maior\n",
      "Tente um número maior\n",
      "Tente um número maior\n",
      "Tente um número menor\n",
      "Tente um número menor\n",
      "Parabéns, você acertou o número secreto\n"
     ]
    }
   ],
   "source": [
    "num_secreto = 42\n",
    "\n",
    "while True:\n",
    "    num_usuario = int(input('Digite um numero inteiro:'))\n",
    "\n",
    "    if num_usuario == num_secreto:\n",
    "        print('Parabéns, você acertou o número secreto')\n",
    "        break\n",
    "    elif num_usuario < num_secreto:\n",
    "        print('Tente um número maior')\n",
    "    else:\n",
    "        print('Tente um número menor')"
   ]
  },
  {
   "cell_type": "markdown",
   "id": "bc0eb076",
   "metadata": {},
   "source": [
    "**Bora praticar!**\n",
    "\n",
    "1) Escreva um programa que solicite um número inteiro e imprima na tela todos os números de 1 até o número digitado, separado por espaços.  \n",
    "_Exemplo_  \n",
    "número digitado: 5  \n",
    "resultado esperado: 1 2 3 4 5\n",
    "\n",
    "2) Faça um programa que mostre o fatorial de um número digitado.  \n",
    "_Exemplo_  \n",
    "número digitado: 5  \n",
    "resultado esperado: 120\n",
    "\n",
    "3) Faça um programa que imprima a tabuada do 9 na tela (entre 1 e 10). Insira a conta, por exemplo, 9 * 1 = 9, sendo cada um dos valores em uma linha diferente.\n",
    "\n",
    "4) Faça um programa em que o usuário digite números quaisquer e encerrará no momento em que o valor 0 seja digitado. Ao final diga qual foi o maior número digitado.\n",
    "\n",
    "5) Faça um script que peça para o usuário digitar a idade, o salário e o sexo de uma pessoa até que as entradas digitadas sejam válidas.  \n",
    "  \n",
    "a. Idade: entre 0 e 150  \n",
    "b. Salário: maior que 0  \n",
    "c. Gênero: M, F ou Outro  \n",
    "  \n",
    "Por último imprima os dados recebidos do usuário.\n",
    "\n",
    "6) Faça uma calculadora. O usuário deve inserir qual a operação matemática ele deseja realizar e logo em seguida os dois números. O programa deve finalizar apenas quando o usuário digitar a opção \"sair\" no momento de escolha da operação matemática.\n",
    "\n"
   ]
  },
  {
   "cell_type": "markdown",
   "id": "647738a0",
   "metadata": {},
   "source": [
    "## Resolução\n",
    "\n",
    "Coloque a solução dos exercícios abaixo no dontpad.com/turma922\n",
    "\n",
    "\n",
    "1) Escreva um programa que solicite um número inteiro e imprima na tela todos os números de 1 até o número digitado, separado por espaços.  \n",
    "_Exemplo_  \n",
    "número digitado: 5  \n",
    "resultado esperado: 1 2 3 4 5"
   ]
  },
  {
   "cell_type": "code",
   "execution_count": 13,
   "id": "9cbf8278",
   "metadata": {},
   "outputs": [
    {
     "name": "stdout",
     "output_type": "stream",
     "text": [
      "1 2 3 4 5 "
     ]
    }
   ],
   "source": [
    "numero = int(input('Digite um número inteiro:'))\n",
    "resultado = 0\n",
    "\n",
    "while resultado < numero:\n",
    "    resultado += 1\n",
    "    print(resultado, end=\" \")\n",
    "\n",
    "    # if resultado == numero:\n",
    "    #     break\n"
   ]
  },
  {
   "cell_type": "code",
   "execution_count": 49,
   "id": "5aa4bc81",
   "metadata": {},
   "outputs": [
    {
     "name": "stdout",
     "output_type": "stream",
     "text": [
      "1 2 3 "
     ]
    }
   ],
   "source": [
    "numero = int(input('Digite um número inteiro:'))\n",
    "contador = 0\n",
    "\n",
    "while contador < numero:\n",
    "    contador += 1\n",
    "    print(contador, end=' ')\n"
   ]
  },
  {
   "cell_type": "markdown",
   "id": "c3814815",
   "metadata": {},
   "source": [
    "2) Faça um programa que mostre o fatorial de um número digitado.  \n",
    "_Exemplo_  \n",
    "número digitado: 5  \n",
    "resultado esperado: 120"
   ]
  },
  {
   "cell_type": "code",
   "execution_count": 58,
   "id": "dd7e7095",
   "metadata": {},
   "outputs": [
    {
     "name": "stdout",
     "output_type": "stream",
     "text": [
      "0! = 1\n"
     ]
    }
   ],
   "source": [
    "fatorial = 1\n",
    "contador = 1\n",
    "\n",
    "numero = int(input(\"Digite um número:\"))\n",
    "\n",
    "while contador <= numero:\n",
    "    fatorial = contador * fatorial\n",
    "    contador += 1\n",
    "\n",
    "print(f\"{numero}! = {fatorial}\")\n"
   ]
  },
  {
   "cell_type": "code",
   "execution_count": null,
   "id": "25de583b",
   "metadata": {},
   "outputs": [],
   "source": []
  },
  {
   "cell_type": "markdown",
   "id": "8edfd4c8",
   "metadata": {},
   "source": [
    "3) Faça um programa que imprima a tabuada do 9 na tela (entre 1 e 10). Insira a conta, por exemplo, 9 * 1 = 9, sendo cada um dos valores em uma linha diferente."
   ]
  },
  {
   "cell_type": "code",
   "execution_count": 61,
   "id": "e8ef1a39",
   "metadata": {},
   "outputs": [
    {
     "name": "stdout",
     "output_type": "stream",
     "text": [
      "9 * 1 = 9\n",
      "9 * 2 = 18\n",
      "9 * 3 = 27\n",
      "9 * 4 = 36\n",
      "9 * 5 = 45\n",
      "9 * 6 = 54\n",
      "9 * 7 = 63\n",
      "9 * 8 = 72\n",
      "9 * 9 = 81\n",
      "9 * 10 = 90\n"
     ]
    }
   ],
   "source": [
    "num = 0\n",
    "resultado = 0\n",
    "\n",
    "while True:\n",
    "    num += 1 \n",
    "    resultado = 9 * num\n",
    "    print(9, \"*\", num, \"=\", resultado)\n",
    "\n",
    "    if num >= 10:\n",
    "        break"
   ]
  },
  {
   "cell_type": "code",
   "execution_count": 63,
   "id": "62598d86",
   "metadata": {},
   "outputs": [
    {
     "name": "stdout",
     "output_type": "stream",
     "text": [
      "3 * 1 = 3\n",
      "3 * 2 = 6\n",
      "3 * 3 = 9\n",
      "3 * 4 = 12\n",
      "3 * 5 = 15\n",
      "3 * 6 = 18\n",
      "3 * 7 = 21\n",
      "3 * 8 = 24\n",
      "3 * 9 = 27\n",
      "3 * 10 = 30\n"
     ]
    }
   ],
   "source": [
    "count = 1\n",
    "num = int(input('Digite um valor para calcular a tabuada:'))\n",
    "while count <= 10:\n",
    "    resultado = num * count\n",
    "    print(f'{num} * {count} = {resultado}')\n",
    "    count += 1"
   ]
  },
  {
   "cell_type": "markdown",
   "id": "c07b56c5",
   "metadata": {},
   "source": [
    "4) Faça um programa em que o usuário digite números quaisquer e encerrará no momento em que o valor 0 seja digitado. Ao final diga qual foi o maior número digitado."
   ]
  },
  {
   "cell_type": "code",
   "execution_count": 66,
   "id": "55403094",
   "metadata": {},
   "outputs": [
    {
     "name": "stdout",
     "output_type": "stream",
     "text": [
      "O maior valor digitado foi 15\n"
     ]
    }
   ],
   "source": [
    "num = int(input('Digite um número:'))\n",
    "maior = 0\n",
    "\n",
    "while num != 0:\n",
    "    if num > maior:\n",
    "        maior = num\n",
    "    num = int(input('Digite um número:'))\n",
    "\n",
    "print(f'O maior valor digitado foi {maior}')"
   ]
  },
  {
   "cell_type": "markdown",
   "id": "7fd3a936",
   "metadata": {},
   "source": [
    "5) Faça um script que peça para o usuário digitar a idade, o salário e o sexo de uma pessoa até que as entradas digitadas sejam válidas.  \n",
    "  \n",
    "a. Idade: entre 0 e 150  \n",
    "b. Salário: maior que 0  \n",
    "c. Gênero: M, F ou Outro  \n",
    "  \n",
    "Por último imprima os dados recebidos do usuário."
   ]
  },
  {
   "cell_type": "code",
   "execution_count": 70,
   "id": "406e274f",
   "metadata": {},
   "outputs": [
    {
     "name": "stdout",
     "output_type": "stream",
     "text": [
      "Todas as informações são válidas.\n",
      "idade=30\n",
      "salario=3500.0\n",
      "genero='m'\n"
     ]
    }
   ],
   "source": [
    "while True:\n",
    "    idade = int(input('Digite sua idade'))\n",
    "    salario = float(input('Digite seu salário'))\n",
    "    genero = input('Digite seu genero')\n",
    "\n",
    "    idade_valida = idade >= 0 and idade <= 150\n",
    "    salario_valido = salario > 0\n",
    "    genero_valido = genero.capitalize() == 'M' or genero.capitalize() == 'F' or genero.capitalize() == 'Outro'\n",
    "\n",
    "\n",
    "    if idade_valida and salario_valido and genero_valido:\n",
    "        print('Todas as informações são válidas.')\n",
    "        print(f'{idade=}')\n",
    "        print(f'{salario=}')\n",
    "        print(f'{genero=}')\n",
    "        break\n",
    "    else:\n",
    "        print('Tente novamente')\n",
    "        continue\n"
   ]
  },
  {
   "cell_type": "code",
   "execution_count": null,
   "id": "1f0b318d",
   "metadata": {},
   "outputs": [],
   "source": []
  },
  {
   "cell_type": "markdown",
   "id": "51a71f3b",
   "metadata": {},
   "source": [
    "6) Faça uma calculadora. O usuário deve inserir qual a operação matemática ele deseja realizar e logo em seguida os dois números. O programa deve finalizar apenas quando o usuário digitar a opção \"sair\" no momento de escolha da operação matemática."
   ]
  },
  {
   "cell_type": "code",
   "execution_count": 76,
   "id": "649be3f1",
   "metadata": {},
   "outputs": [
    {
     "name": "stdout",
     "output_type": "stream",
     "text": [
      "25.5 + 30.7 = 56.2\n"
     ]
    }
   ],
   "source": [
    "while True:\n",
    "    op = input('Digite a operação matemática que deseja realizar')\n",
    "\n",
    "    if op.upper() == 'SAIR':\n",
    "        break\n",
    "    \n",
    "    num = float(input('Digite o primeiro número'))\n",
    "    n2 = float(input('Digite o segundo número'))\n",
    "\n",
    "    if op == '+':\n",
    "        print(f'{num} + {n2} = {num + n2}')\n",
    "    elif op == '-':\n",
    "        print(f'{num} - {n2} = {num - n2}')\n",
    "    elif op == '*':\n",
    "        print(f'{num} * {n2} = {num * n2}')\n",
    "    elif op == '/':\n",
    "        print(f'{num} / {n2} = {num / n2}')\n",
    "\n"
   ]
  },
  {
   "cell_type": "code",
   "execution_count": 2,
   "id": "97c92312",
   "metadata": {},
   "outputs": [
    {
     "name": "stdout",
     "output_type": "stream",
     "text": [
      "0 1 1 2 3 5 8 13 "
     ]
    }
   ],
   "source": [
    "# Bônus: Sequência de Fibonacci\n",
    "# A sequência começa com 0 e 1, e a partir daí, cada número é a soma dos dois números anteriores. \n",
    "# Portanto, a sequência começa assim: 0, 1, 1, 2, 3, 5, 8, 13, 21, 34 e assim por diante.\n",
    "\n",
    "penultimo = 0\n",
    "ultimo = 1\n",
    "total_num = 5\n",
    "count = 0\n",
    "\n",
    "while count <= total_num:\n",
    "    if penultimo == 0 and ultimo == 1:\n",
    "        num_atual = penultimo + ultimo\n",
    "        print(penultimo, ultimo, num_atual, end=\" \")\n",
    "        penultimo = ultimo\n",
    "        ultimo = num_atual\n",
    "    else:\n",
    "        num_atual = penultimo + ultimo\n",
    "        print(num_atual, end=\" \")\n",
    "        penultimo = ultimo\n",
    "        ultimo = num_atual\n",
    "    count += 1\n",
    "\n"
   ]
  },
  {
   "cell_type": "code",
   "execution_count": 12,
   "id": "8026f719",
   "metadata": {},
   "outputs": [
    {
     "name": "stdout",
     "output_type": "stream",
     "text": [
      "[0, 1, 1, 2, 3, 5, 8, 13, 21, 34]\n"
     ]
    }
   ],
   "source": [
    "# Fibonacci otimizado: usando função e loop\n",
    "\n",
    "def fibonacci(n):\n",
    "    sequencia = [0, 1]\n",
    "    while len(sequencia) < n:\n",
    "        prox_num = sequencia[-1] + sequencia[-2]\n",
    "        sequencia.append(prox_num)\n",
    "    return sequencia\n",
    "\n",
    "n = 10\n",
    "resultado = fibonacci(n)\n",
    "print(resultado)"
   ]
  },
  {
   "cell_type": "code",
   "execution_count": 17,
   "id": "4410dd82",
   "metadata": {},
   "outputs": [
    {
     "name": "stdout",
     "output_type": "stream",
     "text": [
      "[0, 1, 1, 2, 3, 5, 8, 13, 21, 34, 55, 89, 144, 233, 377, 610, 987, 1597, 2584, 4181]\n"
     ]
    }
   ],
   "source": [
    "# Fibonacci: usando recursão\n",
    "\n",
    "def fibonacci_recursiva(n):\n",
    "    if n <= 0:\n",
    "        return []\n",
    "    elif n == 1:\n",
    "        return [0]\n",
    "    elif n == 2:\n",
    "        return [0, 1]\n",
    "    else:\n",
    "        sequencia = fibonacci_recursiva(n - 1)\n",
    "        prox_num = sequencia[-1] + sequencia[-2]\n",
    "        sequencia.append(prox_num)\n",
    "    return sequencia\n",
    "\n",
    "n = 20\n",
    "resultado = fibonacci_recursiva(n)\n",
    "print(resultado)\n",
    "    "
   ]
  }
 ],
 "metadata": {
  "kernelspec": {
   "display_name": "Python 3 (ipykernel)",
   "language": "python",
   "name": "python3"
  },
  "language_info": {
   "codemirror_mode": {
    "name": "ipython",
    "version": 3
   },
   "file_extension": ".py",
   "mimetype": "text/x-python",
   "name": "python",
   "nbconvert_exporter": "python",
   "pygments_lexer": "ipython3",
   "version": "3.12.2"
  }
 },
 "nbformat": 4,
 "nbformat_minor": 5
}
