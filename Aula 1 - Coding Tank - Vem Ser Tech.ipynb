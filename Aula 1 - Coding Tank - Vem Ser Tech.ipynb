{
 "cells": [
  {
   "cell_type": "markdown",
   "id": "423e117e",
   "metadata": {},
   "source": [
    "<div style=\"background-color: black; padding: 18px;\">\n",
    "    <h1> Coding Tank | Vem Ser Tech \n",
    "</div>"
   ]
  },
  {
   "cell_type": "markdown",
   "id": "2bd0fc7d",
   "metadata": {},
   "source": [
    "<div style=\"background-color: black; padding: 10px;\">\n",
    "    <h2> Tópicos da aula - AULA 1\n",
    "</div>\n",
    "\n",
    "- Variáveis\n",
    "- Tipos básicos\n",
    "- Entradas/Saídas\n",
    "- Operadores aritméticos, atribuição e comparação"
   ]
  },
  {
   "cell_type": "markdown",
   "id": "b8600ec3",
   "metadata": {},
   "source": [
    "# Introdução\n",
    "\n",
    "Vamos explorar como o jupyter notebook funciona, botões, comandos e tipos de célula"
   ]
  },
  {
   "cell_type": "markdown",
   "id": "fa313866",
   "metadata": {},
   "source": [
    "Markdown"
   ]
  },
  {
   "cell_type": "code",
   "execution_count": 1,
   "id": "9463f580",
   "metadata": {},
   "outputs": [
    {
     "data": {
      "text/plain": [
       "2"
      ]
     },
     "execution_count": 1,
     "metadata": {},
     "output_type": "execute_result"
    }
   ],
   "source": [
    "2"
   ]
  },
  {
   "cell_type": "code",
   "execution_count": 2,
   "id": "241b511d",
   "metadata": {},
   "outputs": [
    {
     "data": {
      "text/plain": [
       "3"
      ]
     },
     "execution_count": 2,
     "metadata": {},
     "output_type": "execute_result"
    }
   ],
   "source": [
    "3"
   ]
  },
  {
   "cell_type": "code",
   "execution_count": 3,
   "id": "9326204d",
   "metadata": {},
   "outputs": [
    {
     "data": {
      "text/plain": [
       "5"
      ]
     },
     "execution_count": 3,
     "metadata": {},
     "output_type": "execute_result"
    }
   ],
   "source": [
    "2 + 3"
   ]
  },
  {
   "cell_type": "code",
   "execution_count": 4,
   "id": "213c2d0a",
   "metadata": {},
   "outputs": [
    {
     "data": {
      "text/plain": [
       "3"
      ]
     },
     "execution_count": 4,
     "metadata": {},
     "output_type": "execute_result"
    }
   ],
   "source": [
    "5 - 2"
   ]
  },
  {
   "cell_type": "code",
   "execution_count": 5,
   "id": "fa52c5b3",
   "metadata": {},
   "outputs": [
    {
     "data": {
      "text/plain": [
       "8.0"
      ]
     },
     "execution_count": 5,
     "metadata": {},
     "output_type": "execute_result"
    }
   ],
   "source": [
    "16 / 2"
   ]
  },
  {
   "cell_type": "code",
   "execution_count": 6,
   "id": "be77b7b6",
   "metadata": {},
   "outputs": [
    {
     "data": {
      "text/plain": [
       "5.0"
      ]
     },
     "execution_count": 6,
     "metadata": {},
     "output_type": "execute_result"
    }
   ],
   "source": [
    "15 / 3"
   ]
  },
  {
   "cell_type": "code",
   "execution_count": 8,
   "id": "ba116bad",
   "metadata": {},
   "outputs": [
    {
     "data": {
      "text/plain": [
       "7"
      ]
     },
     "execution_count": 8,
     "metadata": {},
     "output_type": "execute_result"
    }
   ],
   "source": [
    "# divisão por inteiro\n",
    "15 // 2"
   ]
  },
  {
   "cell_type": "code",
   "execution_count": 9,
   "id": "2e30b6d1",
   "metadata": {},
   "outputs": [
    {
     "data": {
      "text/plain": [
       "1"
      ]
     },
     "execution_count": 9,
     "metadata": {},
     "output_type": "execute_result"
    }
   ],
   "source": [
    "# resto da divisão (módulo)\n",
    "15 % 2"
   ]
  },
  {
   "cell_type": "code",
   "execution_count": 10,
   "id": "4e004797",
   "metadata": {},
   "outputs": [
    {
     "data": {
      "text/plain": [
       "225"
      ]
     },
     "execution_count": 10,
     "metadata": {},
     "output_type": "execute_result"
    }
   ],
   "source": [
    "# exponenciação\n",
    "15 ** 2"
   ]
  },
  {
   "cell_type": "markdown",
   "id": "2f4c88b7",
   "metadata": {},
   "source": [
    "**Operadores Aritméticos**\n",
    "\n",
    "|     Operador    |     Nome                 |     Função                                                                       |\n",
    "|-----------------|--------------------------|----------------------------------------------------------------------------------|\n",
    "|     +           |     Adição               |     Realiza   a soma de ambos operandos.                                         |\n",
    "|     -           |     Subtração            |     Realiza   a subtração de ambos operandos.                                    |\n",
    "|     *           |     Multiplicação        |     Realiza   a multiplicação de ambos operandos.                                |\n",
    "|     /           |     Divisão              |     Realiza   a Divisão de ambos operandos.                                      |\n",
    "|     //          |     Divisão   inteira    |     Realiza   a divisão entre operandos e a parte decimal de ambos operandos.    |\n",
    "|     %           |     Módulo               |     Retorna   o resto da divisão de ambos operandos.                             |\n",
    "|     **          |     Exponenciação        |     Retorna   o resultado da elevação da potência pelo outro.                    |"
   ]
  },
  {
   "cell_type": "markdown",
   "id": "5393993e",
   "metadata": {},
   "source": [
    "Mas como podemos armazenar esses valores?"
   ]
  },
  {
   "cell_type": "markdown",
   "id": "c3208653",
   "metadata": {},
   "source": [
    "# Variáveis\n",
    "\n",
    "Variável é o nome dado ao tipo de conteúdo que pode apresentar diferentes valores enquanto o sistema está em execução. Tudo dependerá do comando do usuário e o tipo de operação que é realizado.\n",
    "\n",
    "Imagine que você conhece uma nova pessoa. A variável seria o lugar no seu cérebro no qual você guarda, por exemplo, o nome desta pessoa, ou seja, é alocado um espaço para armazenar esta informação e posteriormente é passado o valor referente aquele dado.\n",
    "\n",
    "`nome = \"Renata\"`\n",
    "\n",
    "## Tipos básicos\n",
    "\n",
    "Podemos ter informações relacionadas às outras pessoas como nome, idade e salário. Cada uma delas possui o que chamamos de tipos de variável. Os tipos de dados são os seguintes:"
   ]
  },
  {
   "cell_type": "code",
   "execution_count": 17,
   "id": "dab98564",
   "metadata": {},
   "outputs": [
    {
     "data": {
      "text/plain": [
       "str"
      ]
     },
     "execution_count": 17,
     "metadata": {},
     "output_type": "execute_result"
    }
   ],
   "source": [
    "nome = 'Raul'\n",
    "type(nome)"
   ]
  },
  {
   "cell_type": "code",
   "execution_count": 18,
   "id": "63bfa46a",
   "metadata": {},
   "outputs": [
    {
     "data": {
      "text/plain": [
       "'Raul'"
      ]
     },
     "execution_count": 18,
     "metadata": {},
     "output_type": "execute_result"
    }
   ],
   "source": [
    "nome"
   ]
  },
  {
   "cell_type": "code",
   "execution_count": 22,
   "id": "0ce06f61",
   "metadata": {},
   "outputs": [
    {
     "data": {
      "text/plain": [
       "int"
      ]
     },
     "execution_count": 22,
     "metadata": {},
     "output_type": "execute_result"
    }
   ],
   "source": [
    "idade = 30\n",
    "type(idade)"
   ]
  },
  {
   "cell_type": "code",
   "execution_count": 23,
   "id": "04ad08d4",
   "metadata": {},
   "outputs": [
    {
     "data": {
      "text/plain": [
       "30"
      ]
     },
     "execution_count": 23,
     "metadata": {},
     "output_type": "execute_result"
    }
   ],
   "source": [
    "idade"
   ]
  },
  {
   "cell_type": "code",
   "execution_count": 24,
   "id": "9309e7f3",
   "metadata": {},
   "outputs": [
    {
     "data": {
      "text/plain": [
       "float"
      ]
     },
     "execution_count": 24,
     "metadata": {},
     "output_type": "execute_result"
    }
   ],
   "source": [
    "idade = 25.15\n",
    "type(idade)"
   ]
  },
  {
   "cell_type": "code",
   "execution_count": 25,
   "id": "b45f1b53",
   "metadata": {},
   "outputs": [
    {
     "data": {
      "text/plain": [
       "25.15"
      ]
     },
     "execution_count": 25,
     "metadata": {},
     "output_type": "execute_result"
    }
   ],
   "source": [
    "idade"
   ]
  },
  {
   "cell_type": "code",
   "execution_count": 30,
   "id": "15812d79",
   "metadata": {},
   "outputs": [
    {
     "data": {
      "text/plain": [
       "bool"
      ]
     },
     "execution_count": 30,
     "metadata": {},
     "output_type": "execute_result"
    }
   ],
   "source": [
    "certificado = True\n",
    "type(certificado)"
   ]
  },
  {
   "cell_type": "code",
   "execution_count": 31,
   "id": "6639df36",
   "metadata": {},
   "outputs": [
    {
     "data": {
      "text/plain": [
       "True"
      ]
     },
     "execution_count": 31,
     "metadata": {},
     "output_type": "execute_result"
    }
   ],
   "source": [
    "certificado"
   ]
  },
  {
   "cell_type": "code",
   "execution_count": 32,
   "id": "932ee297",
   "metadata": {},
   "outputs": [],
   "source": [
    "certificado: bool = True"
   ]
  },
  {
   "cell_type": "markdown",
   "id": "945f06b6",
   "metadata": {},
   "source": [
    "Idade é diferente de idade"
   ]
  },
  {
   "cell_type": "markdown",
   "id": "ae10d9dc",
   "metadata": {},
   "source": [
    "# Entradas\n",
    "\n",
    "Para solicitarmos entradas de informações a serem fornecidas pelo usuário podemos utilizar a função input. Com ela você poderá (opcional) passar uma mensagem instrutiva ao usuário do que deseja que ele insira.  \n",
    "No exemplo abaixo utilizaremos o input."
   ]
  },
  {
   "cell_type": "code",
   "execution_count": 33,
   "id": "f62524ea",
   "metadata": {},
   "outputs": [
    {
     "data": {
      "text/plain": [
       "'hello world'"
      ]
     },
     "execution_count": 33,
     "metadata": {},
     "output_type": "execute_result"
    }
   ],
   "source": [
    "input()"
   ]
  },
  {
   "cell_type": "markdown",
   "id": "a9be572a",
   "metadata": {},
   "source": [
    "**Intuição**  \n",
    "Veja que ele funciona, porém sem uma mensagem de qual informação é solicitada não é possível identificar o que se deve passar ao programa."
   ]
  },
  {
   "cell_type": "code",
   "execution_count": 34,
   "id": "f974c3df",
   "metadata": {},
   "outputs": [
    {
     "data": {
      "text/plain": [
       "'30'"
      ]
     },
     "execution_count": 34,
     "metadata": {},
     "output_type": "execute_result"
    }
   ],
   "source": [
    "input('Insira a sua idade: ')"
   ]
  },
  {
   "cell_type": "markdown",
   "id": "8dec4efe",
   "metadata": {},
   "source": [
    "**Variável**  \n",
    "Podemos guardar o valor passado pelo usuário numa variável"
   ]
  },
  {
   "cell_type": "code",
   "execution_count": 40,
   "id": "5b1a0065",
   "metadata": {},
   "outputs": [
    {
     "data": {
      "text/plain": [
       "'30'"
      ]
     },
     "execution_count": 40,
     "metadata": {},
     "output_type": "execute_result"
    }
   ],
   "source": [
    "idade = input('Insira a sua idade: ')\n",
    "idade"
   ]
  },
  {
   "cell_type": "markdown",
   "id": "1e00f439",
   "metadata": {},
   "source": [
    "Repare nas aspas que saem quando utilizamos apenas a função input. Isso quer dizer que este valor capturado pelo programa é uma string, independente do que o usuário insira."
   ]
  },
  {
   "cell_type": "code",
   "execution_count": 41,
   "id": "7f15c937",
   "metadata": {},
   "outputs": [
    {
     "name": "stdout",
     "output_type": "stream",
     "text": [
      "30 <class 'str'>\n"
     ]
    }
   ],
   "source": [
    "print(idade, type(idade))"
   ]
  },
  {
   "cell_type": "markdown",
   "id": "a0007819",
   "metadata": {},
   "source": [
    "**Convertendo o tipo de dado**\n",
    "\n",
    "Neste caso é interessante que a idade seja um número, visto que em geral o utilizamos para realizar contas, por exemplo. Para converter este valor para um inteiro, podemos fazer da seguinte forma:"
   ]
  },
  {
   "cell_type": "code",
   "execution_count": 49,
   "id": "3abfbb24",
   "metadata": {},
   "outputs": [
    {
     "name": "stdout",
     "output_type": "stream",
     "text": [
      "30 <class 'int'>\n"
     ]
    }
   ],
   "source": [
    "idade_int = int(idade)\n",
    "print(idade_int, type(idade_int))"
   ]
  },
  {
   "cell_type": "code",
   "execution_count": 48,
   "id": "b2d05721",
   "metadata": {},
   "outputs": [
    {
     "name": "stdout",
     "output_type": "stream",
     "text": [
      "30.0 <class 'float'>\n"
     ]
    }
   ],
   "source": [
    "idade_float = float(idade_int)\n",
    "print(idade_float, type(idade_float))"
   ]
  },
  {
   "cell_type": "code",
   "execution_count": 47,
   "id": "cdd2d645",
   "metadata": {},
   "outputs": [
    {
     "name": "stdout",
     "output_type": "stream",
     "text": [
      "30.0 <class 'str'>\n"
     ]
    }
   ],
   "source": [
    "idade_str = str(idade_float)\n",
    "print(idade_str, type(idade_str))"
   ]
  },
  {
   "cell_type": "code",
   "execution_count": 50,
   "id": "e717563c",
   "metadata": {},
   "outputs": [
    {
     "ename": "ValueError",
     "evalue": "could not convert string to float: 'Raul'",
     "output_type": "error",
     "traceback": [
      "\u001b[1;31m---------------------------------------------------------------------------\u001b[0m",
      "\u001b[1;31mValueError\u001b[0m                                Traceback (most recent call last)",
      "Cell \u001b[1;32mIn[50], line 1\u001b[0m\n\u001b[1;32m----> 1\u001b[0m \u001b[38;5;28;43mfloat\u001b[39;49m\u001b[43m(\u001b[49m\u001b[38;5;124;43m'\u001b[39;49m\u001b[38;5;124;43mRaul\u001b[39;49m\u001b[38;5;124;43m'\u001b[39;49m\u001b[43m)\u001b[49m\n",
      "\u001b[1;31mValueError\u001b[0m: could not convert string to float: 'Raul'"
     ]
    }
   ],
   "source": [
    "float('Raul')"
   ]
  },
  {
   "cell_type": "code",
   "execution_count": 51,
   "id": "3caa3d85",
   "metadata": {},
   "outputs": [
    {
     "data": {
      "text/plain": [
       "123"
      ]
     },
     "execution_count": 51,
     "metadata": {},
     "output_type": "execute_result"
    }
   ],
   "source": [
    "int('000123')"
   ]
  },
  {
   "cell_type": "code",
   "execution_count": null,
   "id": "82f17db5",
   "metadata": {},
   "outputs": [],
   "source": []
  },
  {
   "cell_type": "markdown",
   "id": "295fd764",
   "metadata": {},
   "source": [
    "E para simplificar ainda mais é comum que já realizemos a conversão da variável logo na chamada do input."
   ]
  },
  {
   "cell_type": "code",
   "execution_count": 57,
   "id": "a71c320f",
   "metadata": {},
   "outputs": [],
   "source": [
    "idade = int(input('Insira sua idade: '))"
   ]
  },
  {
   "cell_type": "code",
   "execution_count": 58,
   "id": "73266b5a",
   "metadata": {},
   "outputs": [
    {
     "data": {
      "text/plain": [
       "int"
      ]
     },
     "execution_count": 58,
     "metadata": {},
     "output_type": "execute_result"
    }
   ],
   "source": [
    "type(idade)"
   ]
  },
  {
   "cell_type": "markdown",
   "id": "fa2168c4",
   "metadata": {},
   "source": [
    "## Saídas\n",
    "\n",
    "Em diversas situações desejamos imprimir na tela o resultado de alguma operação que realizamos ou simplesmente emitirmos uma mensagem, para estas situações utilizamos o `print`."
   ]
  },
  {
   "cell_type": "code",
   "execution_count": 59,
   "id": "8ae62362",
   "metadata": {},
   "outputs": [
    {
     "name": "stdout",
     "output_type": "stream",
     "text": [
      "Hello World!\n"
     ]
    }
   ],
   "source": [
    "print('Hello World!')"
   ]
  },
  {
   "cell_type": "code",
   "execution_count": 61,
   "id": "712911a2",
   "metadata": {},
   "outputs": [
    {
     "name": "stdout",
     "output_type": "stream",
     "text": [
      "Olá \n",
      " mundo\n"
     ]
    }
   ],
   "source": [
    "print('Olá \\n mundo')"
   ]
  },
  {
   "cell_type": "code",
   "execution_count": 62,
   "id": "cebac0fa",
   "metadata": {},
   "outputs": [
    {
     "name": "stdout",
     "output_type": "stream",
     "text": [
      "\tÉ possíve tabular\n"
     ]
    }
   ],
   "source": [
    "print('\\tÉ possíve tabular')"
   ]
  },
  {
   "cell_type": "code",
   "execution_count": 63,
   "id": "b532987d",
   "metadata": {},
   "outputs": [
    {
     "name": "stdout",
     "output_type": "stream",
     "text": [
      "Olá\n",
      " pequenos\n",
      " gafanhotos\n",
      "\n",
      "\tÉ possível tabular\n",
      "\n",
      "Olá mundo\n"
     ]
    }
   ],
   "source": [
    "print('Olá\\n pequenos\\n gafanhotos\\n')\n",
    "print('\\tÉ possível tabular\\n')\n",
    "print('Olá mundo')"
   ]
  },
  {
   "cell_type": "code",
   "execution_count": 65,
   "id": "18506214",
   "metadata": {},
   "outputs": [
    {
     "data": {
      "text/plain": [
       "'texto'"
      ]
     },
     "execution_count": 65,
     "metadata": {},
     "output_type": "execute_result"
    }
   ],
   "source": [
    "\"texto\"\n",
    "# \"123\""
   ]
  },
  {
   "cell_type": "code",
   "execution_count": null,
   "id": "495c3b18",
   "metadata": {},
   "outputs": [],
   "source": []
  },
  {
   "cell_type": "code",
   "execution_count": null,
   "id": "1e37b974",
   "metadata": {},
   "outputs": [],
   "source": []
  },
  {
   "cell_type": "code",
   "execution_count": null,
   "id": "72fe1a3d",
   "metadata": {},
   "outputs": [],
   "source": []
  },
  {
   "cell_type": "markdown",
   "id": "c575d984",
   "metadata": {},
   "source": [
    "**Mais de um argumento**  \n",
    "Para imprimir mais de uma informação, o print permite inserir quantos argumentos forem necessários, desde que separados por vírgula. Veja o exemplo:"
   ]
  },
  {
   "cell_type": "code",
   "execution_count": 68,
   "id": "2dfe08f0",
   "metadata": {},
   "outputs": [
    {
     "name": "stdout",
     "output_type": "stream",
     "text": [
      "Olá, me chamo Raul\n"
     ]
    }
   ],
   "source": [
    "print('Olá,', 'me chamo', 'Raul')"
   ]
  },
  {
   "cell_type": "code",
   "execution_count": 69,
   "id": "a28e8533",
   "metadata": {},
   "outputs": [
    {
     "name": "stdout",
     "output_type": "stream",
     "text": [
      "Olá, eu sou o Raul!"
     ]
    }
   ],
   "source": [
    "print('Olá, eu sou o Raul', end='!')"
   ]
  },
  {
   "cell_type": "markdown",
   "id": "944f604d",
   "metadata": {},
   "source": [
    "**Print de variáveis**  \n",
    "Também é possível imprimir variáveis de forma simples, basta passar o nome dado para a variável dentro dos parênteses."
   ]
  },
  {
   "cell_type": "code",
   "execution_count": 70,
   "id": "2b510478",
   "metadata": {},
   "outputs": [
    {
     "name": "stdout",
     "output_type": "stream",
     "text": [
      "15\n"
     ]
    }
   ],
   "source": [
    "print(idade)"
   ]
  },
  {
   "cell_type": "markdown",
   "id": "ba3cfb0e",
   "metadata": {},
   "source": [
    "E se for necessário imprimir a mensagem \"Olá, eu sou Renata Marchese\", de forma que o nome e o sobrenome sejam provenientes de variáveis nome e sobrenome"
   ]
  },
  {
   "cell_type": "code",
   "execution_count": 25,
   "id": "7b142c5e",
   "metadata": {},
   "outputs": [],
   "source": [
    "nome = 'Raul'\n",
    "sobrenome = 'Carvalho'\n",
    "idade = 30"
   ]
  },
  {
   "cell_type": "code",
   "execution_count": 74,
   "id": "f814dd24",
   "metadata": {},
   "outputs": [
    {
     "name": "stdout",
     "output_type": "stream",
     "text": [
      "Olá, eu sou o Raul Carvalho e tenho 30 anos\n"
     ]
    }
   ],
   "source": [
    "print('Olá, eu sou o', nome, sobrenome, 'e tenho', idade, 'anos')"
   ]
  },
  {
   "cell_type": "code",
   "execution_count": 75,
   "id": "09ada37a",
   "metadata": {},
   "outputs": [
    {
     "name": "stdout",
     "output_type": "stream",
     "text": [
      "Olá, eu sou o Raul Carvalho e tenho 30 anos\n"
     ]
    }
   ],
   "source": [
    "print('Olá, eu sou o {} {} e tenho {} anos'.format(nome, sobrenome, idade))"
   ]
  },
  {
   "cell_type": "code",
   "execution_count": 26,
   "id": "f24b311a",
   "metadata": {},
   "outputs": [
    {
     "name": "stdout",
     "output_type": "stream",
     "text": [
      "Olá eu sou Raul Carvalho e tenho 30 anos\n"
     ]
    }
   ],
   "source": [
    "print('Olá eu sou %s %s e tenho %d anos'%(nome, sobrenome, idade))"
   ]
  },
  {
   "cell_type": "markdown",
   "id": "08b9c448",
   "metadata": {},
   "source": [
    "**Print com f string**  \n",
    "Outra forma de utilizarmos o print com variáveis é por meio do que chamamos de f string."
   ]
  },
  {
   "cell_type": "code",
   "execution_count": 76,
   "id": "37382cff",
   "metadata": {},
   "outputs": [
    {
     "name": "stdout",
     "output_type": "stream",
     "text": [
      "Olá, eu sou Raul Carvalho, e tenho 30 anos\n"
     ]
    }
   ],
   "source": [
    "# boa prática\n",
    "print(f'Olá, eu sou {nome} {sobrenome}, e tenho {idade} anos')"
   ]
  },
  {
   "cell_type": "code",
   "execution_count": null,
   "id": "be6d1681",
   "metadata": {},
   "outputs": [],
   "source": []
  },
  {
   "cell_type": "markdown",
   "id": "99da0d47",
   "metadata": {},
   "source": [
    "**Bora praticar!**  \n",
    "Escreva um programa que receba seu nome, sua idade, hobby e escreva uma única sentença que seja, por exemplo, \"Meu nome é Renata, tenho 22 anos e meu hobby é viajar\" "
   ]
  },
  {
   "cell_type": "code",
   "execution_count": 5,
   "id": "c7e45e40",
   "metadata": {},
   "outputs": [
    {
     "name": "stdout",
     "output_type": "stream",
     "text": [
      "Meu nome é Raul, tenho 30 anos e meu hobby é viajar\n"
     ]
    }
   ],
   "source": [
    "nome = input('Escreva seu nome: ')\n",
    "idade = int(input('Escreva sua idade: '))\n",
    "hobby = input('Qual o seu hobby?')\n",
    "print(f'Meu nome é {nome}, tenho {idade} anos e meu hobby é {hobby}')"
   ]
  },
  {
   "cell_type": "code",
   "execution_count": 4,
   "id": "d93df66c",
   "metadata": {},
   "outputs": [
    {
     "name": "stdout",
     "output_type": "stream",
     "text": [
      "Meu nome é Raul, tenho 30 anos e meu hobby é viajar\n"
     ]
    }
   ],
   "source": [
    "name = input('What is your name?')\n",
    "age = int(input('How old are you?'))\n",
    "hobby = input('What is your hobby?')\n",
    "print(f'My name is {name}, I''m {age} years old and my hobby is {hobby}')"
   ]
  },
  {
   "cell_type": "markdown",
   "id": "5ffd55f4",
   "metadata": {},
   "source": [
    "# Operadores Algébricos e de Atribuição\n",
    "Rotineiramente nos deparamos com a necessidade de realizarmos cálculos, para isso utilizamos os operadores algébricos como conhecemos na matemática tradicional. Mas como usar com variáveis?"
   ]
  },
  {
   "cell_type": "code",
   "execution_count": 6,
   "id": "66ec66c5",
   "metadata": {},
   "outputs": [
    {
     "name": "stdout",
     "output_type": "stream",
     "text": [
      "25\n"
     ]
    }
   ],
   "source": [
    "valor_1 = 10\n",
    "valor_2 = 15\n",
    "print(valor_1 + valor_2)"
   ]
  },
  {
   "cell_type": "code",
   "execution_count": 11,
   "id": "2de8314e",
   "metadata": {},
   "outputs": [
    {
     "name": "stdout",
     "output_type": "stream",
     "text": [
      "O valor de x = 5\n",
      "O valor de y = 2\n",
      "O valor de z = 7\n",
      "\n",
      "O valor de x = 6\n",
      "O valor de y = 2\n",
      "O valor de z = 7\n"
     ]
    }
   ],
   "source": [
    "x = 5\n",
    "y = 2\n",
    "z = x + y\n",
    "\n",
    "print(f'O valor de x = {x}')\n",
    "print(f'O valor de y = {y}')\n",
    "print(f'O valor de z = {z}\\n')\n",
    "\n",
    "x += 1\n",
    "\n",
    "print(f'O valor de x = {x}')\n",
    "print(f'O valor de y = {y}')\n",
    "print(f'O valor de z = {z}')"
   ]
  },
  {
   "cell_type": "markdown",
   "id": "1c7dee09",
   "metadata": {},
   "source": [
    "**Operadores de atribuição**\n",
    "\n",
    "|     Operador    |     Equivalente a    |\n",
    "|:---------------:|----------------------|\n",
    "|         =       |     x =   1          |\n",
    "|        +=       |     x =   x + 1      |\n",
    "|        -=       |     x =   x - 1      |\n",
    "|        *=       |     x =   x * 1      |\n",
    "|        /=       |     x =   x / 1      |\n",
    "|        %=       |     x =   x % 1      |"
   ]
  },
  {
   "cell_type": "markdown",
   "id": "e6332069",
   "metadata": {},
   "source": [
    "**Bora praticar!**  \n",
    "Com tudo que vimos até o momento faça um programa que solicite ao usuário que insira seu ano de nascimento. Desconsiderando o mês do ano de nascimento, emita uma mensagem dizendo quantos anos ele possui."
   ]
  },
  {
   "cell_type": "code",
   "execution_count": 12,
   "id": "e81365a4",
   "metadata": {},
   "outputs": [
    {
     "name": "stdout",
     "output_type": "stream",
     "text": [
      "30\n"
     ]
    }
   ],
   "source": [
    "ano_nascimento = int(input('Digite seu ano de nascimento:'))\n",
    "ano_atual = 2024\n",
    "idade = ano_atual - ano_nascimento\n",
    "print(idade)"
   ]
  },
  {
   "cell_type": "markdown",
   "id": "423e0da3",
   "metadata": {},
   "source": [
    "## Operadores de Comparação  \n",
    "Os operadores de comparação são aqueles que possuem o objetivo de analisar os valores de uma expressão e retornar um valor booleano, ou seja, verdadeiro (1) ou falso (0).\n",
    "\n",
    "**Operadores de comparação**\n",
    "\n",
    "|     Operador    |           Nome          |     Função                                              |\n",
    "|:---------------:|:-----------------------:|---------------------------------------------------------|\n",
    "|        ==       |         Igual   a       |     Verifica   se um valor é igual ao outro             |\n",
    "|        !=       |      Diferente   de     |     Verifica   se um valor é diferente ao outro         |\n",
    "|         >       |        Maior   que      |     Verifica   se um valor é maior que outro            |\n",
    "|        >=       |     Maior   ou igual    |     Verifica   se um valor é maior ou igual ao outro    |\n",
    "|         <       |        Menor   que      |     Verifica   se um valor é menor que outro            |\n",
    "|        <=       |     Menor   ou igual    |     Verifica   se um valor é menor ou igual ao outro    |"
   ]
  },
  {
   "cell_type": "code",
   "execution_count": 17,
   "id": "c04d8858",
   "metadata": {},
   "outputs": [
    {
     "name": "stdout",
     "output_type": "stream",
     "text": [
      "True\n"
     ]
    }
   ],
   "source": [
    "print(3 >= 2)"
   ]
  },
  {
   "cell_type": "code",
   "execution_count": 18,
   "id": "da130611",
   "metadata": {},
   "outputs": [
    {
     "name": "stdout",
     "output_type": "stream",
     "text": [
      "False\n"
     ]
    }
   ],
   "source": [
    "print(3 < 2)"
   ]
  },
  {
   "cell_type": "code",
   "execution_count": 22,
   "id": "6b195a66",
   "metadata": {},
   "outputs": [
    {
     "name": "stdout",
     "output_type": "stream",
     "text": [
      "False\n"
     ]
    }
   ],
   "source": [
    "print(3 == 2)"
   ]
  },
  {
   "cell_type": "code",
   "execution_count": 23,
   "id": "941af887",
   "metadata": {},
   "outputs": [
    {
     "name": "stdout",
     "output_type": "stream",
     "text": [
      "True\n"
     ]
    }
   ],
   "source": [
    "print(3 != 2)"
   ]
  },
  {
   "cell_type": "code",
   "execution_count": null,
   "id": "087160a3",
   "metadata": {},
   "outputs": [],
   "source": []
  },
  {
   "cell_type": "markdown",
   "id": "c7e1072f",
   "metadata": {},
   "source": [
    "**Bora praticar!**  \n",
    "Imagine que você está implementando um sistema para verificar se os alunos de uma turma estudantil passaram na disciplina ou não. Para isso solicite que o usuário insira as notas das 4 provas realizadas por um estudante e calcule a média. Após isso, emita uma resposta booleana (True ou False) se o estudante passou na disciplina pensando que a média mínima para aprovação é que seja pelo menos 5."
   ]
  },
  {
   "cell_type": "code",
   "execution_count": 38,
   "id": "aa146bd0",
   "metadata": {},
   "outputs": [
    {
     "name": "stdout",
     "output_type": "stream",
     "text": [
      "True\n"
     ]
    }
   ],
   "source": [
    "nota_1 = float(input('Digite a primeira nota:'))\n",
    "nota_2 = float(input('Digite a segunda nota: '))\n",
    "nota_3 = float(input('Digite a terceira nota: '))\n",
    "nota_4 = float(input('Digite a quarta nota: '))\n",
    "media = (nota_1 + nota_2 + nota_3 + nota_4) / 4\n",
    "\n",
    "print(media >= 5)"
   ]
  },
  {
   "cell_type": "code",
   "execution_count": 39,
   "id": "970f58f3",
   "metadata": {},
   "outputs": [
    {
     "name": "stdout",
     "output_type": "stream",
     "text": [
      "A média do aluno foi 5.75 e o aluno foi aprovado\n"
     ]
    }
   ],
   "source": [
    "nota_1 = float(input('Digite a primeira nota:'))\n",
    "nota_2 = float(input('Digite a segunda nota: '))\n",
    "nota_3 = float(input('Digite a terceira nota: '))\n",
    "nota_4 = float(input('Digite a quarta nota: '))\n",
    "media = (nota_1 + nota_2 + nota_3 + nota_4) / 4\n",
    "aprovado = media >= 5\n",
    "if aprovado:\n",
    "    print(f'A média do aluno foi {media} e o aluno foi aprovado')\n",
    "else:\n",
    "    print(f'A média do aluno foi {media} e o aluno foi reprovado')"
   ]
  },
  {
   "cell_type": "markdown",
   "id": "57b1c875",
   "metadata": {},
   "source": [
    "Crie um algoritmo que calcule o IMC (índice de massa corporal). O IMC é calculado com a formula PESO/(ALTURA ^ 2). Para isso, coloque as informações nas variáveis e ao final apresente o resultado como no exemplo: \"O IMC é 18\""
   ]
  },
  {
   "cell_type": "code",
   "execution_count": 1,
   "id": "5f01e70b",
   "metadata": {},
   "outputs": [
    {
     "name": "stdout",
     "output_type": "stream",
     "text": [
      "O IMC é 22.50\n"
     ]
    }
   ],
   "source": [
    "peso = float(input('Qual seu peso? (kg)'))\n",
    "altura = float(input('Qual sua altura? (metros)'))\n",
    "imc = peso/(altura ** 2)\n",
    "print(f'O IMC é {imc:.2f}')"
   ]
  },
  {
   "cell_type": "markdown",
   "id": "7e0e1ca3",
   "metadata": {},
   "source": [
    "Escreva um algoritmo que calcule (x + y) * (x + y). Os valores de x e y devem ser inseridos pelo usuário"
   ]
  },
  {
   "cell_type": "code",
   "execution_count": 40,
   "id": "8b5c7977",
   "metadata": {},
   "outputs": [
    {
     "name": "stdout",
     "output_type": "stream",
     "text": [
      "169.0\n"
     ]
    }
   ],
   "source": [
    "x = float(input('Digite o valor de x'))\n",
    "y = float(input('Digite o valor de y'))\n",
    "resultado = ((x + y) * (x + y))\n",
    "print(resultado)"
   ]
  }
 ],
 "metadata": {
  "kernelspec": {
   "display_name": "Python 3 (ipykernel)",
   "language": "python",
   "name": "python3"
  },
  "language_info": {
   "codemirror_mode": {
    "name": "ipython",
    "version": 3
   },
   "file_extension": ".py",
   "mimetype": "text/x-python",
   "name": "python",
   "nbconvert_exporter": "python",
   "pygments_lexer": "ipython3",
   "version": "3.12.2"
  }
 },
 "nbformat": 4,
 "nbformat_minor": 5
}
